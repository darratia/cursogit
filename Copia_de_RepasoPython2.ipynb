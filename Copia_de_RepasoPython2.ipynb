{
  "nbformat": 4,
  "nbformat_minor": 5,
  "metadata": {
    "kernelspec": {
      "display_name": "Python 3",
      "language": "python",
      "name": "python3"
    },
    "language_info": {
      "codemirror_mode": {
        "name": "ipython",
        "version": 3
      },
      "file_extension": ".py",
      "mimetype": "text/x-python",
      "name": "python",
      "nbconvert_exporter": "python",
      "pygments_lexer": "ipython3",
      "version": "3.8.5"
    },
    "colab": {
      "name": "Copia de RepasoPython2.ipynb",
      "provenance": [],
      "collapsed_sections": [
        "8cb33300",
        "90b02c02",
        "ee072687",
        "b5cbdbd2",
        "a213653b"
      ],
      "include_colab_link": true
    }
  },
  "cells": [
    {
      "cell_type": "markdown",
      "metadata": {
        "id": "view-in-github",
        "colab_type": "text"
      },
      "source": [
        "<a href=\"https://colab.research.google.com/github/darratia/cursogit/blob/master/Copia_de_RepasoPython2.ipynb\" target=\"_parent\"><img src=\"https://colab.research.google.com/assets/colab-badge.svg\" alt=\"Open In Colab\"/></a>"
      ]
    },
    {
      "cell_type": "markdown",
      "metadata": {
        "id": "0a192066"
      },
      "source": [
        "# Repaso Python II"
      ],
      "id": "0a192066"
    },
    {
      "cell_type": "markdown",
      "metadata": {
        "id": "e67bd67a"
      },
      "source": [
        "## Continuación de ciclos\n",
        "\n",
        "***El while se usa hasta conseguir que la condición definida por el ususario es cierta o para correr código infinitamente***\n",
        "\n",
        "    while condicion es cierta:\n",
        "    instruccion\n",
        "    instruccion\n",
        "    .\n",
        "    .\n",
        "    instruccion```\n",
        "\n",
        "***El for se usa para iterar sobre algo, que puede ser una lista o un string***\n",
        "\n",
        "    for i in lista:\n",
        "        instruccion\n",
        "        instruccion\n",
        "        .\n",
        "        .\n",
        "        instruccion\n",
        "\n",
        "***Los ciclos tienen cuatro componentes básicos:***\n",
        "\n",
        "```Inicialización```:  Es cuando se debe inicializar la variable que va a iterar, por ejemplo ```i = 0``` o la variable **i** del for (for **i** in lista)\n",
        "\n",
        "```Condición de repetición```: Hasta donde se ejecuta el ciclo. Por ejemplo ```for i in range(0,3)``` se ejecutará siempre y cuando i sea 0, 1 y 2. Ej.2: ```while x <= 6``` se ejecutará siempre y cuando x sea menor o igual a 6.\n",
        "\n",
        "```Cuerpo del ciclo```: Se ejecutan las instrucciones determinadas por el ususario dentro del ciclo.\n",
        "```Actualizar```: Actualizar la variable que itera para continuar el ciclo. En un ciclo while, es necesario incremetar/disminuir la variable Por ejemplo ```x = x + 1``` , ```x +=1``` . Por otro lado en el for al usar ```range``` por defecto se incrementa en uno. \n",
        "\n",
        "\n",
        "\n",
        "## ¿Cómo podemos  tablas de multiplicar usando ciclos\n",
        "\n",
        " 1) Necesitamos una varible que almacenará lo que se mostrará en pantalla = string\n",
        " \n",
        " 2) el primer cliclo for nos sirve para definir el rango de la tabla de multiplicar a realizar. Ej tabla del 1 al 3 , se colocará range(1,4)\n",
        " \n",
        " 3) El segundo ciclo, define los digitos que queremos multiplicar por ejemplo del 1 al 10 --> range(1,11)\n",
        " \n",
        " 4) Podemos definir una variable que contenga el valor de la multiplicación que serán los digitos del primer ciclo multiplicado por los digitos del segundo ciclo\n",
        " \n",
        " 5) Finalmente mostramos el resultado y si queremos mostrar con salto de linea, agregrar a la variable almacenadora string.\n",
        " \n",
        " \n",
        "\n"
      ],
      "id": "e67bd67a"
    },
    {
      "cell_type": "code",
      "metadata": {
        "id": "560acaed",
        "outputId": "30b909c5-2520-45a2-ff84-781e65df775c"
      },
      "source": [
        "string=''\n",
        "\n",
        "for i in range(1,2):\n",
        "    for j in range(1,11):\n",
        "        mult = i * j\n",
        "        string += str(i)z + ' * ' +str(j) + ' = ' + str(mult) \n",
        "        string +=\"\\n\"\n",
        "        \n",
        "        \n",
        "print(string)"
      ],
      "id": "560acaed",
      "execution_count": null,
      "outputs": [
        {
          "name": "stdout",
          "output_type": "stream",
          "text": [
            "1 * 1 = 1\n",
            "1 * 2 = 2\n",
            "1 * 3 = 3\n",
            "1 * 4 = 4\n",
            "1 * 5 = 5\n",
            "1 * 6 = 6\n",
            "1 * 7 = 7\n",
            "1 * 8 = 8\n",
            "1 * 9 = 9\n",
            "1 * 10 = 10\n",
            "\n"
          ]
        }
      ]
    },
    {
      "cell_type": "markdown",
      "metadata": {
        "id": "31e7dfe0"
      },
      "source": [
        "## ¿Cómo se pueden hacer figuras usando ciclos? \n",
        "\n",
        "Vamos a ver como podemos hacer la siguiente figura:\n",
        "\n",
        "    +\n",
        "    ++\n",
        "    +++\n",
        "    ++++\n",
        "    +++++\n",
        "\n",
        "La secuencia es pensar que hay 5 filas y que a medida que la fila aumenta, tambien aumenta el numero de + por columna. Es decir, en la fila 1, hay 1 ```+```: en la fila2, hay 2 ```+```...etc hasta fila n hay n ```+```. \n",
        "Se debe llenar cada fila con asteriscos según el número de fila donde se encuentra la iteración. Al final se concatena un salto de línea. Para ello podemos usar :\n",
        "1. Un ciclo for \n",
        "\n",
        "2. Un ciclo for anidado.\n",
        "\n",
        "3. Concatenar un salto de línea.\n",
        "\n",
        "- Se define el número de filas: ```n=5```\n",
        "\n",
        "- Definimos una variable que contiene lo que vamos a imprimir: ```cointain```\n",
        "\n",
        "- En el primer ciclo for, generamos una variable ```i``` que tenga un ranfo de ```n+1```  ya que ```n``` es igual a 0, 1, 2, 3, 4. En este caso, en la primera vuelta ```i=0``` y no entra en el segundo for porque  no hay rango de 0. Es por ello que para lograr entrar en el segundo for las veces que necesitamos, se debe sumar ```1``` al valor ```n``` : ```range (n+1)```"
      ],
      "id": "31e7dfe0"
    },
    {
      "cell_type": "code",
      "metadata": {
        "colab": {
          "base_uri": "https://localhost:8080/"
        },
        "id": "0be97b3a",
        "outputId": "f42cda28-75e5-47fe-e8dd-32473592818e"
      },
      "source": [
        "n = 5\n",
        "\n",
        "contain =''\n",
        "for i in range(n+1):\n",
        "    for j in range(i):\n",
        "        contain +='+'\n",
        "    if i != n+1:    \n",
        "        contain +='\\n'\n",
        "print(contain)\n",
        "        \n"
      ],
      "id": "0be97b3a",
      "execution_count": null,
      "outputs": [
        {
          "output_type": "stream",
          "name": "stdout",
          "text": [
            "\n",
            "+\n",
            "++\n",
            "+++\n",
            "++++\n",
            "+++++\n",
            "\n"
          ]
        }
      ]
    },
    {
      "cell_type": "markdown",
      "metadata": {
        "id": "a0660f7d"
      },
      "source": [
        "## Hacer la misma figura al revés \n",
        "    +++++\n",
        "    ++++\n",
        "    +++\n",
        "    ++\n",
        "    +\n",
        " \n",
        " Iteración 0: ```5 - 0 = 5```\n",
        " \n",
        " Iteración 1: ```5 - 1 = 4```\n",
        " \n",
        " Iteración 2: ```5 - 2 = 3```\n",
        " \n",
        " Iteración 4: ```5 - 3 = 2```\n",
        " \n",
        " Iteración 5: ```5 - 4 = 1```"
      ],
      "id": "a0660f7d"
    },
    {
      "cell_type": "code",
      "metadata": {
        "id": "3689888d",
        "outputId": "50ec8431-a5c8-4048-d151-8bff73d7decd"
      },
      "source": [
        "n = 5\n",
        "contain=''\n",
        "for i in range(n):\n",
        "    for j in range(n - i): \n",
        "        contain += '+'\n",
        "    contain += '\\n' \n",
        "print(contain)"
      ],
      "id": "3689888d",
      "execution_count": null,
      "outputs": [
        {
          "name": "stdout",
          "output_type": "stream",
          "text": [
            "+++++\n",
            "++++\n",
            "+++\n",
            "++\n",
            "+\n",
            "\n"
          ]
        }
      ]
    },
    {
      "cell_type": "markdown",
      "metadata": {
        "id": "16960897"
      },
      "source": [
        "# Funciones"
      ],
      "id": "16960897"
    },
    {
      "cell_type": "markdown",
      "metadata": {
        "id": "76eeab00"
      },
      "source": [
        "- Las funciones nos permiten agrupar instrucciones y reutilizarlas.\n",
        "- Una funcion puede devolver un valor o no devolver nada. Por ejemplo, ya hemos usado anteriormente la función ```print()``` que muestra por pantalla lo que le entregamos y la función ```input()``` que solo almacena el input entregado por el usuario.\n",
        "- Las funciones se pueden llamar desde el espacio de trabajo principal como ```función()```. Ej. ```print()```, ```len()```\n",
        "- Tambien se pueden llamar dentro de objetos como ```objeto.función()```. Ej. ```\"hola\".upper```\n",
        "- Se pueden llamar dentro de las clases como ```Clase.función()```. Ej. ```LinearRegression().fit()```\n",
        "- Se pueden llamar ademas dentro de módulos como ```módulo.función()``` Ej. ```math.sqrt()```\n",
        "\n",
        "### Algunas carateristicas\n",
        "\n",
        "- Se pueden importar desde un archivo o desde librerías externas \n",
        "- Se organizan en torno a clases y módulos\n",
        "- Se usan para la programación ***modular*** : Dividir un programa en funciones independientes.\n",
        "- Pueden tener tres partes: ***nombre***, ***parámetros*** y ***valor de retorno***\n",
        "```nombre``` no puede ser una palabra reservada  y se define como ```def```nombre_funcion\n",
        "\n",
        "***Ejemplo de donde es adecuado usar una función: Realizar una calculadora simple: se puede hacer en funciones independientes la suma, resta, multiplicación y división.***\n",
        "\n",
        "~~~\n",
        "def nombre_de_funcion(param1,param2, etc. ):\n",
        "    #Se especifica que hace la función o se agrega una descripción de la función entre comillas triples\n",
        "    \"\"\"Funcion que realiza una operación de tipo X y devuelve un valor Z\"\"\"\n",
        "    # Instrucciones se identa de 4 espacios\n",
        "    instruccion\n",
        "    instruccion\n",
        "    .\n",
        "    .\n",
        "    return value\n",
        "    \n",
        "~~~"
      ],
      "id": "76eeab00"
    },
    {
      "cell_type": "code",
      "metadata": {
        "id": "7d56a5c7"
      },
      "source": [
        "def mostrar_menu():\n",
        "    \"\"\"Funcion menu imprime el menú de opciones del banco \"\"\"\n",
        "    print (\"\\n¡Bienvenido al Banco Amigo!\")\n",
        "    print (\"Escoja una opción:\")\n",
        "    opcion = int(input(\"1. Consultar saldo\\n2. Hacer depósito\\n3. Realizar giro\\n4. Salir\\n\"))\n",
        "    \n",
        "    return opcion"
      ],
      "id": "7d56a5c7",
      "execution_count": null,
      "outputs": []
    },
    {
      "cell_type": "code",
      "metadata": {
        "colab": {
          "base_uri": "https://localhost:8080/",
          "height": 579
        },
        "id": "cd3e455b",
        "outputId": "8775ced1-d55e-4e72-e064-d34437842a96"
      },
      "source": [
        "opcion = mostrar_menu()"
      ],
      "id": "cd3e455b",
      "execution_count": null,
      "outputs": [
        {
          "metadata": {
            "tags": null
          },
          "name": "stdout",
          "output_type": "stream",
          "text": [
            "\n",
            "¡Bienvenido al Banco Amigo!\n",
            "Escoja una opción:\n"
          ]
        },
        {
          "output_type": "error",
          "ename": "KeyboardInterrupt",
          "evalue": "ignored",
          "traceback": [
            "\u001b[0;31m---------------------------------------------------------------------------\u001b[0m",
            "\u001b[0;31mKeyboardInterrupt\u001b[0m                         Traceback (most recent call last)",
            "\u001b[0;32m/usr/local/lib/python3.7/dist-packages/ipykernel/kernelbase.py\u001b[0m in \u001b[0;36m_input_request\u001b[0;34m(self, prompt, ident, parent, password)\u001b[0m\n\u001b[1;32m    728\u001b[0m             \u001b[0;32mtry\u001b[0m\u001b[0;34m:\u001b[0m\u001b[0;34m\u001b[0m\u001b[0;34m\u001b[0m\u001b[0m\n\u001b[0;32m--> 729\u001b[0;31m                 \u001b[0mident\u001b[0m\u001b[0;34m,\u001b[0m \u001b[0mreply\u001b[0m \u001b[0;34m=\u001b[0m \u001b[0mself\u001b[0m\u001b[0;34m.\u001b[0m\u001b[0msession\u001b[0m\u001b[0;34m.\u001b[0m\u001b[0mrecv\u001b[0m\u001b[0;34m(\u001b[0m\u001b[0mself\u001b[0m\u001b[0;34m.\u001b[0m\u001b[0mstdin_socket\u001b[0m\u001b[0;34m,\u001b[0m \u001b[0;36m0\u001b[0m\u001b[0;34m)\u001b[0m\u001b[0;34m\u001b[0m\u001b[0;34m\u001b[0m\u001b[0m\n\u001b[0m\u001b[1;32m    730\u001b[0m             \u001b[0;32mexcept\u001b[0m \u001b[0mException\u001b[0m\u001b[0;34m:\u001b[0m\u001b[0;34m\u001b[0m\u001b[0;34m\u001b[0m\u001b[0m\n",
            "\u001b[0;32m/usr/local/lib/python3.7/dist-packages/jupyter_client/session.py\u001b[0m in \u001b[0;36mrecv\u001b[0;34m(self, socket, mode, content, copy)\u001b[0m\n\u001b[1;32m    802\u001b[0m         \u001b[0;32mtry\u001b[0m\u001b[0;34m:\u001b[0m\u001b[0;34m\u001b[0m\u001b[0;34m\u001b[0m\u001b[0m\n\u001b[0;32m--> 803\u001b[0;31m             \u001b[0mmsg_list\u001b[0m \u001b[0;34m=\u001b[0m \u001b[0msocket\u001b[0m\u001b[0;34m.\u001b[0m\u001b[0mrecv_multipart\u001b[0m\u001b[0;34m(\u001b[0m\u001b[0mmode\u001b[0m\u001b[0;34m,\u001b[0m \u001b[0mcopy\u001b[0m\u001b[0;34m=\u001b[0m\u001b[0mcopy\u001b[0m\u001b[0;34m)\u001b[0m\u001b[0;34m\u001b[0m\u001b[0;34m\u001b[0m\u001b[0m\n\u001b[0m\u001b[1;32m    804\u001b[0m         \u001b[0;32mexcept\u001b[0m \u001b[0mzmq\u001b[0m\u001b[0;34m.\u001b[0m\u001b[0mZMQError\u001b[0m \u001b[0;32mas\u001b[0m \u001b[0me\u001b[0m\u001b[0;34m:\u001b[0m\u001b[0;34m\u001b[0m\u001b[0;34m\u001b[0m\u001b[0m\n",
            "\u001b[0;32m/usr/local/lib/python3.7/dist-packages/zmq/sugar/socket.py\u001b[0m in \u001b[0;36mrecv_multipart\u001b[0;34m(self, flags, copy, track)\u001b[0m\n\u001b[1;32m    618\u001b[0m         \"\"\"\n\u001b[0;32m--> 619\u001b[0;31m         \u001b[0mparts\u001b[0m \u001b[0;34m=\u001b[0m \u001b[0;34m[\u001b[0m\u001b[0mself\u001b[0m\u001b[0;34m.\u001b[0m\u001b[0mrecv\u001b[0m\u001b[0;34m(\u001b[0m\u001b[0mflags\u001b[0m\u001b[0;34m,\u001b[0m \u001b[0mcopy\u001b[0m\u001b[0;34m=\u001b[0m\u001b[0mcopy\u001b[0m\u001b[0;34m,\u001b[0m \u001b[0mtrack\u001b[0m\u001b[0;34m=\u001b[0m\u001b[0mtrack\u001b[0m\u001b[0;34m)\u001b[0m\u001b[0;34m]\u001b[0m\u001b[0;34m\u001b[0m\u001b[0;34m\u001b[0m\u001b[0m\n\u001b[0m\u001b[1;32m    620\u001b[0m         \u001b[0;31m# have first part already, only loop while more to receive\u001b[0m\u001b[0;34m\u001b[0m\u001b[0;34m\u001b[0m\u001b[0;34m\u001b[0m\u001b[0m\n",
            "\u001b[0;32mzmq/backend/cython/socket.pyx\u001b[0m in \u001b[0;36mzmq.backend.cython.socket.Socket.recv\u001b[0;34m()\u001b[0m\n",
            "\u001b[0;32mzmq/backend/cython/socket.pyx\u001b[0m in \u001b[0;36mzmq.backend.cython.socket.Socket.recv\u001b[0;34m()\u001b[0m\n",
            "\u001b[0;32mzmq/backend/cython/socket.pyx\u001b[0m in \u001b[0;36mzmq.backend.cython.socket._recv_copy\u001b[0;34m()\u001b[0m\n",
            "\u001b[0;32m/usr/local/lib/python3.7/dist-packages/zmq/backend/cython/checkrc.pxd\u001b[0m in \u001b[0;36mzmq.backend.cython.checkrc._check_rc\u001b[0;34m()\u001b[0m\n",
            "\u001b[0;31mKeyboardInterrupt\u001b[0m: ",
            "\nDuring handling of the above exception, another exception occurred:\n",
            "\u001b[0;31mKeyboardInterrupt\u001b[0m                         Traceback (most recent call last)",
            "\u001b[0;32m<ipython-input-7-c750dbf615a2>\u001b[0m in \u001b[0;36m<module>\u001b[0;34m()\u001b[0m\n\u001b[0;32m----> 1\u001b[0;31m \u001b[0mopcion\u001b[0m \u001b[0;34m=\u001b[0m \u001b[0mmostrar_menu\u001b[0m\u001b[0;34m(\u001b[0m\u001b[0;34m)\u001b[0m\u001b[0;34m\u001b[0m\u001b[0;34m\u001b[0m\u001b[0m\n\u001b[0m",
            "\u001b[0;32m<ipython-input-6-8e570f3b2f0c>\u001b[0m in \u001b[0;36mmostrar_menu\u001b[0;34m()\u001b[0m\n\u001b[1;32m      3\u001b[0m     \u001b[0mprint\u001b[0m \u001b[0;34m(\u001b[0m\u001b[0;34m\"\\n¡Bienvenido al Banco Amigo!\"\u001b[0m\u001b[0;34m)\u001b[0m\u001b[0;34m\u001b[0m\u001b[0;34m\u001b[0m\u001b[0m\n\u001b[1;32m      4\u001b[0m     \u001b[0mprint\u001b[0m \u001b[0;34m(\u001b[0m\u001b[0;34m\"Escoja una opción:\"\u001b[0m\u001b[0;34m)\u001b[0m\u001b[0;34m\u001b[0m\u001b[0;34m\u001b[0m\u001b[0m\n\u001b[0;32m----> 5\u001b[0;31m     \u001b[0mopcion\u001b[0m \u001b[0;34m=\u001b[0m \u001b[0mint\u001b[0m\u001b[0;34m(\u001b[0m\u001b[0minput\u001b[0m\u001b[0;34m(\u001b[0m\u001b[0;34m\"1. Consultar saldo\\n2. Hacer depósito\\n3. Realizar giro\\n4. Salir\\n\"\u001b[0m\u001b[0;34m)\u001b[0m\u001b[0;34m)\u001b[0m\u001b[0;34m\u001b[0m\u001b[0;34m\u001b[0m\u001b[0m\n\u001b[0m\u001b[1;32m      6\u001b[0m \u001b[0;34m\u001b[0m\u001b[0m\n\u001b[1;32m      7\u001b[0m     \u001b[0;32mreturn\u001b[0m \u001b[0mopcion\u001b[0m\u001b[0;34m\u001b[0m\u001b[0;34m\u001b[0m\u001b[0m\n",
            "\u001b[0;32m/usr/local/lib/python3.7/dist-packages/ipykernel/kernelbase.py\u001b[0m in \u001b[0;36mraw_input\u001b[0;34m(self, prompt)\u001b[0m\n\u001b[1;32m    702\u001b[0m             \u001b[0mself\u001b[0m\u001b[0;34m.\u001b[0m\u001b[0m_parent_ident\u001b[0m\u001b[0;34m,\u001b[0m\u001b[0;34m\u001b[0m\u001b[0;34m\u001b[0m\u001b[0m\n\u001b[1;32m    703\u001b[0m             \u001b[0mself\u001b[0m\u001b[0;34m.\u001b[0m\u001b[0m_parent_header\u001b[0m\u001b[0;34m,\u001b[0m\u001b[0;34m\u001b[0m\u001b[0;34m\u001b[0m\u001b[0m\n\u001b[0;32m--> 704\u001b[0;31m             \u001b[0mpassword\u001b[0m\u001b[0;34m=\u001b[0m\u001b[0;32mFalse\u001b[0m\u001b[0;34m,\u001b[0m\u001b[0;34m\u001b[0m\u001b[0;34m\u001b[0m\u001b[0m\n\u001b[0m\u001b[1;32m    705\u001b[0m         )\n\u001b[1;32m    706\u001b[0m \u001b[0;34m\u001b[0m\u001b[0m\n",
            "\u001b[0;32m/usr/local/lib/python3.7/dist-packages/ipykernel/kernelbase.py\u001b[0m in \u001b[0;36m_input_request\u001b[0;34m(self, prompt, ident, parent, password)\u001b[0m\n\u001b[1;32m    732\u001b[0m             \u001b[0;32mexcept\u001b[0m \u001b[0mKeyboardInterrupt\u001b[0m\u001b[0;34m:\u001b[0m\u001b[0;34m\u001b[0m\u001b[0;34m\u001b[0m\u001b[0m\n\u001b[1;32m    733\u001b[0m                 \u001b[0;31m# re-raise KeyboardInterrupt, to truncate traceback\u001b[0m\u001b[0;34m\u001b[0m\u001b[0;34m\u001b[0m\u001b[0;34m\u001b[0m\u001b[0m\n\u001b[0;32m--> 734\u001b[0;31m                 \u001b[0;32mraise\u001b[0m \u001b[0mKeyboardInterrupt\u001b[0m\u001b[0;34m\u001b[0m\u001b[0;34m\u001b[0m\u001b[0m\n\u001b[0m\u001b[1;32m    735\u001b[0m             \u001b[0;32melse\u001b[0m\u001b[0;34m:\u001b[0m\u001b[0;34m\u001b[0m\u001b[0;34m\u001b[0m\u001b[0m\n\u001b[1;32m    736\u001b[0m                 \u001b[0;32mbreak\u001b[0m\u001b[0;34m\u001b[0m\u001b[0;34m\u001b[0m\u001b[0m\n",
            "\u001b[0;31mKeyboardInterrupt\u001b[0m: "
          ]
        }
      ]
    },
    {
      "cell_type": "code",
      "metadata": {
        "id": "a6351318",
        "outputId": "d7031cb3-3c78-420a-b08d-cc5c14b70694"
      },
      "source": [
        "print (opcion)"
      ],
      "id": "a6351318",
      "execution_count": null,
      "outputs": [
        {
          "name": "stdout",
          "output_type": "stream",
          "text": [
            "1\n"
          ]
        }
      ]
    },
    {
      "cell_type": "code",
      "metadata": {
        "id": "cee3a626"
      },
      "source": [
        "def mostrar_saldo(saldo):\n",
        "    print (\"Tu saldo es de {}\".format(saldo))"
      ],
      "id": "cee3a626",
      "execution_count": null,
      "outputs": []
    },
    {
      "cell_type": "code",
      "metadata": {
        "id": "b15288d4",
        "outputId": "8422a4bc-2028-45a9-c938-ccd470dcbdd5"
      },
      "source": [
        "saldo = 100000\n",
        "mostrar_saldo(saldo)"
      ],
      "id": "b15288d4",
      "execution_count": null,
      "outputs": [
        {
          "name": "stdout",
          "output_type": "stream",
          "text": [
            "Tu saldo es de 100000\n"
          ]
        }
      ]
    },
    {
      "cell_type": "code",
      "metadata": {
        "id": "c776df69",
        "outputId": "48d57dc8-c0b7-42af-9911-1c06d7833567"
      },
      "source": [
        "help(mostrar_menu)"
      ],
      "id": "c776df69",
      "execution_count": null,
      "outputs": [
        {
          "name": "stdout",
          "output_type": "stream",
          "text": [
            "Help on function mostrar_menu in module __main__:\n",
            "\n",
            "mostrar_menu()\n",
            "    Funcion menu imprime el menú de opciones del banco\n",
            "\n"
          ]
        }
      ]
    },
    {
      "cell_type": "code",
      "metadata": {
        "id": "59a1548c"
      },
      "source": [
        "def incrementar_en_uno(numero):\n",
        "    \"\"\" \n",
        "    Esta función recibe cualquier numero y lo incrementa en 1. Imprime por pantalla el total de ese incremento\n",
        "    \"\"\"\n",
        "    total = numero + 1     \n",
        "    print(\"El resultado es: \", total)   "
      ],
      "id": "59a1548c",
      "execution_count": null,
      "outputs": []
    },
    {
      "cell_type": "code",
      "metadata": {
        "id": "67424307",
        "outputId": "ac504ad2-baf8-4ef0-d4e1-c459a2b4eb71"
      },
      "source": [
        "incrementar_en_uno(20)"
      ],
      "id": "67424307",
      "execution_count": null,
      "outputs": [
        {
          "name": "stdout",
          "output_type": "stream",
          "text": [
            "El resultado es:  21\n"
          ]
        }
      ]
    },
    {
      "cell_type": "code",
      "metadata": {
        "id": "ff71e20b",
        "outputId": "a0e5ea4c-efd4-4c81-f56d-a2309d0f725d"
      },
      "source": [
        "incrementar_en_uno(5.0)"
      ],
      "id": "ff71e20b",
      "execution_count": null,
      "outputs": [
        {
          "name": "stdout",
          "output_type": "stream",
          "text": [
            "El resultado es:  6.0\n"
          ]
        }
      ]
    },
    {
      "cell_type": "code",
      "metadata": {
        "id": "aba3b178",
        "outputId": "f274273d-3eaf-44dc-b29a-8830807a6ab2"
      },
      "source": [
        "# la función no acepta str\n",
        "incrementar_en_uno('4')"
      ],
      "id": "aba3b178",
      "execution_count": null,
      "outputs": [
        {
          "ename": "TypeError",
          "evalue": "can only concatenate str (not \"int\") to str",
          "output_type": "error",
          "traceback": [
            "\u001b[0;31m---------------------------------------------------------------------------\u001b[0m",
            "\u001b[0;31mTypeError\u001b[0m                                 Traceback (most recent call last)",
            "\u001b[0;32m<ipython-input-25-675726ba1109>\u001b[0m in \u001b[0;36m<module>\u001b[0;34m\u001b[0m\n\u001b[1;32m      1\u001b[0m \u001b[0;31m# la función no acepta str\u001b[0m\u001b[0;34m\u001b[0m\u001b[0;34m\u001b[0m\u001b[0;34m\u001b[0m\u001b[0m\n\u001b[0;32m----> 2\u001b[0;31m \u001b[0mincrementar_en_uno\u001b[0m\u001b[0;34m(\u001b[0m\u001b[0;34m'4'\u001b[0m\u001b[0;34m)\u001b[0m\u001b[0;34m\u001b[0m\u001b[0;34m\u001b[0m\u001b[0m\n\u001b[0m",
            "\u001b[0;32m<ipython-input-22-7aa507929776>\u001b[0m in \u001b[0;36mincrementar_en_uno\u001b[0;34m(numero)\u001b[0m\n\u001b[1;32m      3\u001b[0m     \u001b[0mEsta\u001b[0m \u001b[0mfunción\u001b[0m \u001b[0mrecibe\u001b[0m \u001b[0mcualquier\u001b[0m \u001b[0mnumero\u001b[0m \u001b[0my\u001b[0m \u001b[0mlo\u001b[0m \u001b[0mincrementa\u001b[0m \u001b[0men\u001b[0m \u001b[0;36m1.\u001b[0m \u001b[0mImprime\u001b[0m \u001b[0mpor\u001b[0m \u001b[0mpantalla\u001b[0m \u001b[0mel\u001b[0m \u001b[0mtotal\u001b[0m \u001b[0mde\u001b[0m \u001b[0mese\u001b[0m \u001b[0mincremento\u001b[0m\u001b[0;34m\u001b[0m\u001b[0;34m\u001b[0m\u001b[0m\n\u001b[1;32m      4\u001b[0m     \"\"\"\n\u001b[0;32m----> 5\u001b[0;31m     \u001b[0mtotal\u001b[0m \u001b[0;34m=\u001b[0m \u001b[0mnumero\u001b[0m \u001b[0;34m+\u001b[0m \u001b[0;36m1\u001b[0m\u001b[0;34m\u001b[0m\u001b[0;34m\u001b[0m\u001b[0m\n\u001b[0m\u001b[1;32m      6\u001b[0m     \u001b[0mprint\u001b[0m\u001b[0;34m(\u001b[0m\u001b[0;34m\"El resultado es: \"\u001b[0m\u001b[0;34m,\u001b[0m \u001b[0mtotal\u001b[0m\u001b[0;34m)\u001b[0m\u001b[0;34m\u001b[0m\u001b[0;34m\u001b[0m\u001b[0m\n",
            "\u001b[0;31mTypeError\u001b[0m: can only concatenate str (not \"int\") to str"
          ]
        }
      ]
    },
    {
      "cell_type": "code",
      "metadata": {
        "id": "45b3ee41",
        "outputId": "59f7ef63-aa92-4355-9b3f-6ce3ebf2be4c"
      },
      "source": [
        "help(incrementar_en_uno)"
      ],
      "id": "45b3ee41",
      "execution_count": null,
      "outputs": [
        {
          "name": "stdout",
          "output_type": "stream",
          "text": [
            "Help on function incrementar_en_uno in module __main__:\n",
            "\n",
            "incrementar_en_uno(numero)\n",
            "    Esta función recibe cualquier numero y lo incrementa en 1. Imprime por pantalla el total de ese incremento\n",
            "\n"
          ]
        }
      ]
    },
    {
      "cell_type": "code",
      "metadata": {
        "id": "18563b8c"
      },
      "source": [
        "# La misma función pero en vez de imprimir, retornará el número \n",
        "def incrementar_en_uno(numero):\n",
        "    \"\"\" \n",
        "    Esta función recibe cualquier número y lo incrementa en 1. Retorna el total de ese incremento\n",
        "    \"\"\"\n",
        "    total = numero + 1    \n",
        "    return total"
      ],
      "id": "18563b8c",
      "execution_count": null,
      "outputs": []
    },
    {
      "cell_type": "code",
      "metadata": {
        "id": "775e35cf",
        "outputId": "90b744f4-45b4-429e-f21b-f691a41a09cf"
      },
      "source": [
        "help(incrementar_en_uno)"
      ],
      "id": "775e35cf",
      "execution_count": null,
      "outputs": [
        {
          "name": "stdout",
          "output_type": "stream",
          "text": [
            "Help on function incrementar_en_uno in module __main__:\n",
            "\n",
            "incrementar_en_uno(numero)\n",
            "    Esta función recibe cualquier número y lo incrementa en 1. Retorna el total de ese incremento\n",
            "\n"
          ]
        }
      ]
    },
    {
      "cell_type": "code",
      "metadata": {
        "id": "653efdff",
        "outputId": "68808811-c9e3-429f-f893-240ec56bc937"
      },
      "source": [
        "# Aqui en notebooks si se ve pero en un script que se corre por consola no se verá\n",
        "a = incrementar_en_uno(30)\n",
        "print(a)"
      ],
      "id": "653efdff",
      "execution_count": null,
      "outputs": [
        {
          "name": "stdout",
          "output_type": "stream",
          "text": [
            "31\n"
          ]
        }
      ]
    },
    {
      "cell_type": "code",
      "metadata": {
        "id": "f6b40f9d",
        "outputId": "33947c15-f6b6-4542-a578-677c4272e25e"
      },
      "source": [
        "numero = int(input(\"Ingrese el numero a incrementar:\\n\"))\n"
      ],
      "id": "f6b40f9d",
      "execution_count": null,
      "outputs": [
        {
          "name": "stdout",
          "output_type": "stream",
          "text": [
            "Ingrese el numero a incrementar:\n",
            "30\n"
          ]
        }
      ]
    },
    {
      "cell_type": "code",
      "metadata": {
        "id": "462a010d",
        "outputId": "91293300-4342-4f41-c37d-ccfbef5a72c3"
      },
      "source": [
        "# Una forma es mostrar explixitamente el retorno\n",
        "print(incrementar_en_uno(numero)) "
      ],
      "id": "462a010d",
      "execution_count": null,
      "outputs": [
        {
          "name": "stdout",
          "output_type": "stream",
          "text": [
            "31\n"
          ]
        }
      ]
    },
    {
      "cell_type": "code",
      "metadata": {
        "id": "81168390",
        "outputId": "9de7c23c-aa19-4713-9491-9ef339c72fbe"
      },
      "source": [
        "# Otra forma de mostrar es \n",
        "\n",
        "incremento = incrementar_en_uno(10)\n",
        "print (incremento)"
      ],
      "id": "81168390",
      "execution_count": null,
      "outputs": [
        {
          "name": "stdout",
          "output_type": "stream",
          "text": [
            "11\n"
          ]
        }
      ]
    },
    {
      "cell_type": "markdown",
      "metadata": {
        "id": "8cb33300"
      },
      "source": [
        "## Función Fahrenheit to Celsius"
      ],
      "id": "8cb33300"
    },
    {
      "cell_type": "code",
      "metadata": {
        "id": "f1b39c61"
      },
      "source": [
        "def fahrenheit2celsius(f):\n",
        "    celsius = (f + 40) / 1.8 - 40\n",
        "    return celsius"
      ],
      "id": "f1b39c61",
      "execution_count": null,
      "outputs": []
    },
    {
      "cell_type": "code",
      "metadata": {
        "id": "13593416",
        "outputId": "9d87db96-fea7-4c0f-bb91-63615f73cff0"
      },
      "source": [
        "fahrenheit2celsius(10)"
      ],
      "id": "13593416",
      "execution_count": null,
      "outputs": [
        {
          "data": {
            "text/plain": [
              "-12.222222222222221"
            ]
          },
          "execution_count": 39,
          "metadata": {},
          "output_type": "execute_result"
        }
      ]
    },
    {
      "cell_type": "code",
      "metadata": {
        "id": "1d250790",
        "outputId": "4d31435d-f9fd-4089-8189-e4f9a39b4618"
      },
      "source": [
        "#Es posible siempre realizar una operación con una función Ej:\n",
        "grados_celsius = fahrenheit2celsius(10)\n",
        "grados_celsius + 10"
      ],
      "id": "1d250790",
      "execution_count": null,
      "outputs": [
        {
          "data": {
            "text/plain": [
              "-2.2222222222222214"
            ]
          },
          "execution_count": 40,
          "metadata": {},
          "output_type": "execute_result"
        }
      ]
    },
    {
      "cell_type": "markdown",
      "metadata": {
        "id": "90b02c02"
      },
      "source": [
        "## Tipos de variables\n",
        "\n",
        "Existen 4 tipos de variables en Python:\n",
        "* globales\n",
        "* locales\n",
        "* de instancia\n",
        "* de clase\n",
        "\n",
        "Las últimas dos se ocupan dentro de la creación de objetos (no serán abordadas). Nos\n",
        "enfocaremos en las variables globales y locales."
      ],
      "id": "90b02c02"
    },
    {
      "cell_type": "markdown",
      "metadata": {
        "id": "439db4d8"
      },
      "source": [
        "__Una variable definida dentro de una función, al ser local, no puede ser accedida fuera de ésta (solo existe en\n",
        "el scope de la función donde se definió).__"
      ],
      "id": "439db4d8"
    },
    {
      "cell_type": "code",
      "metadata": {
        "id": "e056b5ce",
        "outputId": "4715afdc-7cbf-4d7f-edde-8ece91adb77f"
      },
      "source": [
        "#Esto seria una varibale global\n",
        "nota_aprobacion = 6\n",
        "\n",
        "def aprobado(promedio, nota_aprobacion = 4): \n",
        "    #print(nota_aprobacion)\n",
        "    if promedio >= nota_aprobacion:\n",
        "        status = True\n",
        "    else:\n",
        "        status = False\n",
        "    return status\n",
        "\n",
        "## LLamando a la funcion y guardando el resultado en la variable \"a\"\n",
        "a = aprobado(5.6)\n",
        "\n"
      ],
      "id": "e056b5ce",
      "execution_count": null,
      "outputs": [
        {
          "name": "stdout",
          "output_type": "stream",
          "text": [
            "True\n"
          ]
        }
      ]
    },
    {
      "cell_type": "code",
      "metadata": {
        "id": "a9db6d94",
        "outputId": "bd898a35-9949-4512-f66e-b03203175a30"
      },
      "source": [
        "# Imprimiedo a\n",
        "print(a)"
      ],
      "id": "a9db6d94",
      "execution_count": null,
      "outputs": [
        {
          "name": "stdout",
          "output_type": "stream",
          "text": [
            "False\n"
          ]
        }
      ]
    },
    {
      "cell_type": "code",
      "metadata": {
        "id": "a9bc3b6e",
        "outputId": "b3eea466-c158-4214-c6a3-fec5bb472dde"
      },
      "source": [
        "print(aprobado(5.6))\n"
      ],
      "id": "a9bc3b6e",
      "execution_count": null,
      "outputs": [
        {
          "name": "stdout",
          "output_type": "stream",
          "text": [
            "False\n"
          ]
        }
      ]
    },
    {
      "cell_type": "code",
      "metadata": {
        "id": "c8a4f586",
        "outputId": "77d02aa7-9c29-4641-997e-d7bfbe0b8a06"
      },
      "source": [
        "print(nota_aprobacion)\n"
      ],
      "id": "c8a4f586",
      "execution_count": null,
      "outputs": [
        {
          "name": "stdout",
          "output_type": "stream",
          "text": [
            "6\n"
          ]
        }
      ]
    },
    {
      "cell_type": "code",
      "metadata": {
        "id": "e43f17ad",
        "outputId": "80554e06-898d-47a2-eded-b5138e72bdba"
      },
      "source": [
        "print(status)\n"
      ],
      "id": "e43f17ad",
      "execution_count": null,
      "outputs": [
        {
          "name": "stdout",
          "output_type": "stream",
          "text": [
            "True\n"
          ]
        }
      ]
    },
    {
      "cell_type": "code",
      "metadata": {
        "id": "2f951734",
        "outputId": "571fe478-64e0-4b7e-dab8-c7cd85bbb86c"
      },
      "source": [
        "import math\n",
        "help(math)\n"
      ],
      "id": "2f951734",
      "execution_count": null,
      "outputs": [
        {
          "name": "stdout",
          "output_type": "stream",
          "text": [
            "Help on module math:\n",
            "\n",
            "NAME\n",
            "    math\n",
            "\n",
            "MODULE REFERENCE\n",
            "    https://docs.python.org/3.8/library/math\n",
            "    \n",
            "    The following documentation is automatically generated from the Python\n",
            "    source files.  It may be incomplete, incorrect or include features that\n",
            "    are considered implementation detail and may vary between Python\n",
            "    implementations.  When in doubt, consult the module reference at the\n",
            "    location listed above.\n",
            "\n",
            "DESCRIPTION\n",
            "    This module provides access to the mathematical functions\n",
            "    defined by the C standard.\n",
            "\n",
            "FUNCTIONS\n",
            "    acos(x, /)\n",
            "        Return the arc cosine (measured in radians) of x.\n",
            "    \n",
            "    acosh(x, /)\n",
            "        Return the inverse hyperbolic cosine of x.\n",
            "    \n",
            "    asin(x, /)\n",
            "        Return the arc sine (measured in radians) of x.\n",
            "    \n",
            "    asinh(x, /)\n",
            "        Return the inverse hyperbolic sine of x.\n",
            "    \n",
            "    atan(x, /)\n",
            "        Return the arc tangent (measured in radians) of x.\n",
            "    \n",
            "    atan2(y, x, /)\n",
            "        Return the arc tangent (measured in radians) of y/x.\n",
            "        \n",
            "        Unlike atan(y/x), the signs of both x and y are considered.\n",
            "    \n",
            "    atanh(x, /)\n",
            "        Return the inverse hyperbolic tangent of x.\n",
            "    \n",
            "    ceil(x, /)\n",
            "        Return the ceiling of x as an Integral.\n",
            "        \n",
            "        This is the smallest integer >= x.\n",
            "    \n",
            "    comb(n, k, /)\n",
            "        Number of ways to choose k items from n items without repetition and without order.\n",
            "        \n",
            "        Evaluates to n! / (k! * (n - k)!) when k <= n and evaluates\n",
            "        to zero when k > n.\n",
            "        \n",
            "        Also called the binomial coefficient because it is equivalent\n",
            "        to the coefficient of k-th term in polynomial expansion of the\n",
            "        expression (1 + x)**n.\n",
            "        \n",
            "        Raises TypeError if either of the arguments are not integers.\n",
            "        Raises ValueError if either of the arguments are negative.\n",
            "    \n",
            "    copysign(x, y, /)\n",
            "        Return a float with the magnitude (absolute value) of x but the sign of y.\n",
            "        \n",
            "        On platforms that support signed zeros, copysign(1.0, -0.0)\n",
            "        returns -1.0.\n",
            "    \n",
            "    cos(x, /)\n",
            "        Return the cosine of x (measured in radians).\n",
            "    \n",
            "    cosh(x, /)\n",
            "        Return the hyperbolic cosine of x.\n",
            "    \n",
            "    degrees(x, /)\n",
            "        Convert angle x from radians to degrees.\n",
            "    \n",
            "    dist(p, q, /)\n",
            "        Return the Euclidean distance between two points p and q.\n",
            "        \n",
            "        The points should be specified as sequences (or iterables) of\n",
            "        coordinates.  Both inputs must have the same dimension.\n",
            "        \n",
            "        Roughly equivalent to:\n",
            "            sqrt(sum((px - qx) ** 2.0 for px, qx in zip(p, q)))\n",
            "    \n",
            "    erf(x, /)\n",
            "        Error function at x.\n",
            "    \n",
            "    erfc(x, /)\n",
            "        Complementary error function at x.\n",
            "    \n",
            "    exp(x, /)\n",
            "        Return e raised to the power of x.\n",
            "    \n",
            "    expm1(x, /)\n",
            "        Return exp(x)-1.\n",
            "        \n",
            "        This function avoids the loss of precision involved in the direct evaluation of exp(x)-1 for small x.\n",
            "    \n",
            "    fabs(x, /)\n",
            "        Return the absolute value of the float x.\n",
            "    \n",
            "    factorial(x, /)\n",
            "        Find x!.\n",
            "        \n",
            "        Raise a ValueError if x is negative or non-integral.\n",
            "    \n",
            "    floor(x, /)\n",
            "        Return the floor of x as an Integral.\n",
            "        \n",
            "        This is the largest integer <= x.\n",
            "    \n",
            "    fmod(x, y, /)\n",
            "        Return fmod(x, y), according to platform C.\n",
            "        \n",
            "        x % y may differ.\n",
            "    \n",
            "    frexp(x, /)\n",
            "        Return the mantissa and exponent of x, as pair (m, e).\n",
            "        \n",
            "        m is a float and e is an int, such that x = m * 2.**e.\n",
            "        If x is 0, m and e are both 0.  Else 0.5 <= abs(m) < 1.0.\n",
            "    \n",
            "    fsum(seq, /)\n",
            "        Return an accurate floating point sum of values in the iterable seq.\n",
            "        \n",
            "        Assumes IEEE-754 floating point arithmetic.\n",
            "    \n",
            "    gamma(x, /)\n",
            "        Gamma function at x.\n",
            "    \n",
            "    gcd(x, y, /)\n",
            "        greatest common divisor of x and y\n",
            "    \n",
            "    hypot(...)\n",
            "        hypot(*coordinates) -> value\n",
            "        \n",
            "        Multidimensional Euclidean distance from the origin to a point.\n",
            "        \n",
            "        Roughly equivalent to:\n",
            "            sqrt(sum(x**2 for x in coordinates))\n",
            "        \n",
            "        For a two dimensional point (x, y), gives the hypotenuse\n",
            "        using the Pythagorean theorem:  sqrt(x*x + y*y).\n",
            "        \n",
            "        For example, the hypotenuse of a 3/4/5 right triangle is:\n",
            "        \n",
            "            >>> hypot(3.0, 4.0)\n",
            "            5.0\n",
            "    \n",
            "    isclose(a, b, *, rel_tol=1e-09, abs_tol=0.0)\n",
            "        Determine whether two floating point numbers are close in value.\n",
            "        \n",
            "          rel_tol\n",
            "            maximum difference for being considered \"close\", relative to the\n",
            "            magnitude of the input values\n",
            "          abs_tol\n",
            "            maximum difference for being considered \"close\", regardless of the\n",
            "            magnitude of the input values\n",
            "        \n",
            "        Return True if a is close in value to b, and False otherwise.\n",
            "        \n",
            "        For the values to be considered close, the difference between them\n",
            "        must be smaller than at least one of the tolerances.\n",
            "        \n",
            "        -inf, inf and NaN behave similarly to the IEEE 754 Standard.  That\n",
            "        is, NaN is not close to anything, even itself.  inf and -inf are\n",
            "        only close to themselves.\n",
            "    \n",
            "    isfinite(x, /)\n",
            "        Return True if x is neither an infinity nor a NaN, and False otherwise.\n",
            "    \n",
            "    isinf(x, /)\n",
            "        Return True if x is a positive or negative infinity, and False otherwise.\n",
            "    \n",
            "    isnan(x, /)\n",
            "        Return True if x is a NaN (not a number), and False otherwise.\n",
            "    \n",
            "    isqrt(n, /)\n",
            "        Return the integer part of the square root of the input.\n",
            "    \n",
            "    ldexp(x, i, /)\n",
            "        Return x * (2**i).\n",
            "        \n",
            "        This is essentially the inverse of frexp().\n",
            "    \n",
            "    lgamma(x, /)\n",
            "        Natural logarithm of absolute value of Gamma function at x.\n",
            "    \n",
            "    log(...)\n",
            "        log(x, [base=math.e])\n",
            "        Return the logarithm of x to the given base.\n",
            "        \n",
            "        If the base not specified, returns the natural logarithm (base e) of x.\n",
            "    \n",
            "    log10(x, /)\n",
            "        Return the base 10 logarithm of x.\n",
            "    \n",
            "    log1p(x, /)\n",
            "        Return the natural logarithm of 1+x (base e).\n",
            "        \n",
            "        The result is computed in a way which is accurate for x near zero.\n",
            "    \n",
            "    log2(x, /)\n",
            "        Return the base 2 logarithm of x.\n",
            "    \n",
            "    modf(x, /)\n",
            "        Return the fractional and integer parts of x.\n",
            "        \n",
            "        Both results carry the sign of x and are floats.\n",
            "    \n",
            "    perm(n, k=None, /)\n",
            "        Number of ways to choose k items from n items without repetition and with order.\n",
            "        \n",
            "        Evaluates to n! / (n - k)! when k <= n and evaluates\n",
            "        to zero when k > n.\n",
            "        \n",
            "        If k is not specified or is None, then k defaults to n\n",
            "        and the function returns n!.\n",
            "        \n",
            "        Raises TypeError if either of the arguments are not integers.\n",
            "        Raises ValueError if either of the arguments are negative.\n",
            "    \n",
            "    pow(x, y, /)\n",
            "        Return x**y (x to the power of y).\n",
            "    \n",
            "    prod(iterable, /, *, start=1)\n",
            "        Calculate the product of all the elements in the input iterable.\n",
            "        \n",
            "        The default start value for the product is 1.\n",
            "        \n",
            "        When the iterable is empty, return the start value.  This function is\n",
            "        intended specifically for use with numeric values and may reject\n",
            "        non-numeric types.\n",
            "    \n",
            "    radians(x, /)\n",
            "        Convert angle x from degrees to radians.\n",
            "    \n",
            "    remainder(x, y, /)\n",
            "        Difference between x and the closest integer multiple of y.\n",
            "        \n",
            "        Return x - n*y where n*y is the closest integer multiple of y.\n",
            "        In the case where x is exactly halfway between two multiples of\n",
            "        y, the nearest even value of n is used. The result is always exact.\n",
            "    \n",
            "    sin(x, /)\n",
            "        Return the sine of x (measured in radians).\n",
            "    \n",
            "    sinh(x, /)\n",
            "        Return the hyperbolic sine of x.\n",
            "    \n",
            "    sqrt(x, /)\n",
            "        Return the square root of x.\n",
            "    \n",
            "    tan(x, /)\n",
            "        Return the tangent of x (measured in radians).\n",
            "    \n",
            "    tanh(x, /)\n",
            "        Return the hyperbolic tangent of x.\n",
            "    \n",
            "    trunc(x, /)\n",
            "        Truncates the Real x to the nearest Integral toward 0.\n",
            "        \n",
            "        Uses the __trunc__ magic method.\n",
            "\n",
            "DATA\n",
            "    e = 2.718281828459045\n",
            "    inf = inf\n",
            "    nan = nan\n",
            "    pi = 3.141592653589793\n",
            "    tau = 6.283185307179586\n",
            "\n",
            "FILE\n",
            "    /opt/miniconda3/lib/python3.8/lib-dynload/math.cpython-38-darwin.so\n",
            "\n",
            "\n"
          ]
        }
      ]
    },
    {
      "cell_type": "code",
      "metadata": {
        "id": "8f86e012",
        "outputId": "8efd89f9-a001-40ca-c8a5-b4f06ccd21d0"
      },
      "source": [
        "help(math.sqrt)\n"
      ],
      "id": "8f86e012",
      "execution_count": null,
      "outputs": [
        {
          "name": "stdout",
          "output_type": "stream",
          "text": [
            "Help on built-in function sqrt in module math:\n",
            "\n",
            "sqrt(x, /)\n",
            "    Return the square root of x.\n",
            "\n"
          ]
        },
        {
          "data": {
            "text/plain": [
              "3.1622776601683795"
            ]
          },
          "execution_count": 66,
          "metadata": {},
          "output_type": "execute_result"
        }
      ]
    },
    {
      "cell_type": "code",
      "metadata": {
        "id": "5eab2dec",
        "outputId": "2e91f9b1-3b73-45a1-8583-60f2c62c6a6f"
      },
      "source": [
        "math.sqrt(10)"
      ],
      "id": "5eab2dec",
      "execution_count": null,
      "outputs": [
        {
          "data": {
            "text/plain": [
              "3.1622776601683795"
            ]
          },
          "execution_count": 69,
          "metadata": {},
          "output_type": "execute_result"
        }
      ]
    },
    {
      "cell_type": "markdown",
      "metadata": {
        "id": "f9ed03df"
      },
      "source": [
        "## Secuencia Fibonacci en Python\n",
        "\n",
        "La secuencia de Fibonacci es una serie común y de uso frecuente en matemáticas. Se muestra a continuación.\n",
        "~~~\n",
        "0,1,1,2,3,5,8,13,21,34,55,89,144,233....\n",
        "~~~\n",
        "\n",
        "Fibonacci es la suma de los dos números anteriores y se puede mostrar matemáticamente como ```Fn = Fn-1 + Fn-2```\n",
        "El primer y segundo elementos de la serie son 0 y 1, respectivamente.\n"
      ],
      "id": "f9ed03df"
    },
    {
      "cell_type": "code",
      "metadata": {
        "id": "ed7cfeaa"
      },
      "source": [
        "def fib(n):\n",
        "     a, b = 0, 1\n",
        "    #Va a imprimir los valores arrojados por la variable a \n",
        "    #en repetidas veces mientras la condición sea a < n, es decir verdadero \n",
        "     while a < n:\n",
        "         # linea que imprime los valores de la sucesión de Fibonacci.\n",
        "         print(a, end=' ')\n",
        "         #Los valores de a y b son obtenidos utilizando la asignación paralela\n",
        "         a, b = b, a+b\n",
        "     print()\n",
        "    "
      ],
      "id": "ed7cfeaa",
      "execution_count": null,
      "outputs": []
    },
    {
      "cell_type": "code",
      "metadata": {
        "colab": {
          "base_uri": "https://localhost:8080/"
        },
        "id": "b5849ba0",
        "outputId": "1fca7e0e-7005-4fdb-f3fd-dd4ae7982180"
      },
      "source": [
        "fib(250)"
      ],
      "id": "b5849ba0",
      "execution_count": null,
      "outputs": [
        {
          "output_type": "stream",
          "name": "stdout",
          "text": [
            "0 1 1 2 3 5 8 13 21 34 55 89 144 233 \n"
          ]
        }
      ]
    },
    {
      "cell_type": "markdown",
      "metadata": {
        "id": "1d81b7ca"
      },
      "source": [
        "# Numpy"
      ],
      "id": "1d81b7ca"
    },
    {
      "cell_type": "markdown",
      "metadata": {
        "id": "debddae0"
      },
      "source": [
        " ```numpy``` es la biblioteca principal para la computación científica en Python. Es usado en casi todos los cálculos numéricos. Es un paquete que provee a Python de estructuras de datos vectoriales, matriciales, y de rango mayor, de alto rendimiento. Está implementado en C y Fortran, de modo que cuando los cálculos son vectorizados (formulados con vectores y matrices), el rendimiento es muy bueno.\n",
        " \n",
        "***[Documentacion de NumPy](https://numpy.org/doc/stable/index.html)*** \n",
        "\n",
        "```numpy``` se importa de la siguiente manera "
      ],
      "id": "debddae0"
    },
    {
      "cell_type": "code",
      "metadata": {
        "id": "36d0ef1a"
      },
      "source": [
        "import numpy as np"
      ],
      "id": "36d0ef1a",
      "execution_count": null,
      "outputs": []
    },
    {
      "cell_type": "markdown",
      "metadata": {
        "id": "262f3e4d"
      },
      "source": [
        "Existen varias formas para inicializar nuevos arreglos de numpy, por ejemplo desde\n",
        "\n",
        "- Listas o tuplas Python\n",
        "- Usando funciones dedicadas a generar arreglos numpy, como arange, linspace, etc.\n",
        "- Leyendo datos desde archivos\n",
        "\n",
        "***Los arreglos Numpy son de tipo estático y homogéneo. El tipo de elementos es determinado cuando se crea el arreglo.***\n",
        "\n",
        "# Desde lista\n",
        "\n",
        "###  ```numpy.array``` --> ```np.array```\n"
      ],
      "id": "262f3e4d"
    },
    {
      "cell_type": "code",
      "metadata": {
        "id": "bdc730c9",
        "outputId": "15a82153-2c21-41a5-ebae-f5b1d3ad8f14"
      },
      "source": [
        "# un vector: el argumento de la función array es una lista de Python\n",
        "v = np.array([1,2,3,4])\n",
        "v"
      ],
      "id": "bdc730c9",
      "execution_count": null,
      "outputs": [
        {
          "data": {
            "text/plain": [
              "array([1, 2, 3, 4])"
            ]
          },
          "execution_count": 80,
          "metadata": {},
          "output_type": "execute_result"
        }
      ]
    },
    {
      "cell_type": "code",
      "metadata": {
        "id": "8dc6947f",
        "outputId": "2a909993-10fe-49b2-d7fd-21cd112e9dc1"
      },
      "source": [
        "# una matriz: el argumento de la función array es una lista anidada de Python\n",
        "M = np.array([[1, 2], [3, 4]])\n",
        "M"
      ],
      "id": "8dc6947f",
      "execution_count": null,
      "outputs": [
        {
          "data": {
            "text/plain": [
              "array([[1, 2],\n",
              "       [3, 4]])"
            ]
          },
          "execution_count": 82,
          "metadata": {},
          "output_type": "execute_result"
        }
      ]
    },
    {
      "cell_type": "markdown",
      "metadata": {
        "id": "2e10236c"
      },
      "source": [
        "Los objetos ```v``` y ```M``` son ambos de tipo ndarray que provee el módulo numpy. \n"
      ],
      "id": "2e10236c"
    },
    {
      "cell_type": "code",
      "metadata": {
        "id": "5f29565b",
        "colab": {
          "base_uri": "https://localhost:8080/"
        },
        "outputId": "50e908bf-1ac7-47f7-a6f7-73feb39715a8"
      },
      "source": [
        "type(v)"
      ],
      "id": "5f29565b",
      "execution_count": null,
      "outputs": [
        {
          "output_type": "execute_result",
          "data": {
            "text/plain": [
              "int"
            ]
          },
          "metadata": {},
          "execution_count": 76
        }
      ]
    },
    {
      "cell_type": "code",
      "metadata": {
        "id": "ec2a6caa",
        "colab": {
          "base_uri": "https://localhost:8080/"
        },
        "outputId": "c29a2762-4ceb-40be-aba2-1bf2a9030fa2"
      },
      "source": [
        "type(M)"
      ],
      "id": "ec2a6caa",
      "execution_count": null,
      "outputs": [
        {
          "output_type": "execute_result",
          "data": {
            "text/plain": [
              "int"
            ]
          },
          "metadata": {},
          "execution_count": 21
        }
      ]
    },
    {
      "cell_type": "code",
      "metadata": {
        "id": "9535ae21",
        "colab": {
          "base_uri": "https://localhost:8080/"
        },
        "outputId": "af0f853a-98be-4113-e790-93d5ec49eeee"
      },
      "source": [
        "type(v), type(M)"
      ],
      "id": "9535ae21",
      "execution_count": null,
      "outputs": [
        {
          "output_type": "execute_result",
          "data": {
            "text/plain": [
              "(int, int)"
            ]
          },
          "metadata": {},
          "execution_count": 22
        }
      ]
    },
    {
      "cell_type": "markdown",
      "metadata": {
        "id": "a31e5fa9"
      },
      "source": [
        "Estos arreglos se diferencian sólo por su forma y esto se puede ver facilmente usando ```ndarray.shape``` o ```np.shape(ndarray)```"
      ],
      "id": "a31e5fa9"
    },
    {
      "cell_type": "code",
      "metadata": {
        "id": "024b7fa0",
        "colab": {
          "base_uri": "https://localhost:8080/",
          "height": 164
        },
        "outputId": "3104e633-2c8b-484b-97e3-6f9a1d0a36f2"
      },
      "source": [
        "v.shape"
      ],
      "id": "024b7fa0",
      "execution_count": null,
      "outputs": [
        {
          "output_type": "error",
          "ename": "AttributeError",
          "evalue": "ignored",
          "traceback": [
            "\u001b[0;31m---------------------------------------------------------------------------\u001b[0m",
            "\u001b[0;31mAttributeError\u001b[0m                            Traceback (most recent call last)",
            "\u001b[0;32m<ipython-input-23-a38eaa4fc0c3>\u001b[0m in \u001b[0;36m<module>\u001b[0;34m()\u001b[0m\n\u001b[0;32m----> 1\u001b[0;31m \u001b[0mv\u001b[0m\u001b[0;34m.\u001b[0m\u001b[0mshape\u001b[0m\u001b[0;34m\u001b[0m\u001b[0;34m\u001b[0m\u001b[0m\n\u001b[0m",
            "\u001b[0;31mAttributeError\u001b[0m: 'int' object has no attribute 'shape'"
          ]
        }
      ]
    },
    {
      "cell_type": "code",
      "metadata": {
        "id": "dd56e9ef",
        "colab": {
          "base_uri": "https://localhost:8080/"
        },
        "outputId": "1def927f-2421-4984-c69d-392f657022e3"
      },
      "source": [
        "np.shape(v)"
      ],
      "id": "dd56e9ef",
      "execution_count": null,
      "outputs": [
        {
          "output_type": "execute_result",
          "data": {
            "text/plain": [
              "()"
            ]
          },
          "metadata": {},
          "execution_count": 24
        }
      ]
    },
    {
      "cell_type": "code",
      "metadata": {
        "id": "f9c3dc4e",
        "colab": {
          "base_uri": "https://localhost:8080/",
          "height": 164
        },
        "outputId": "82911479-1399-4d89-f84e-820825d0e3bd"
      },
      "source": [
        "M.shape"
      ],
      "id": "f9c3dc4e",
      "execution_count": null,
      "outputs": [
        {
          "output_type": "error",
          "ename": "AttributeError",
          "evalue": "ignored",
          "traceback": [
            "\u001b[0;31m---------------------------------------------------------------------------\u001b[0m",
            "\u001b[0;31mAttributeError\u001b[0m                            Traceback (most recent call last)",
            "\u001b[0;32m<ipython-input-25-2d613757dcdc>\u001b[0m in \u001b[0;36m<module>\u001b[0;34m()\u001b[0m\n\u001b[0;32m----> 1\u001b[0;31m \u001b[0mM\u001b[0m\u001b[0;34m.\u001b[0m\u001b[0mshape\u001b[0m\u001b[0;34m\u001b[0m\u001b[0;34m\u001b[0m\u001b[0m\n\u001b[0m",
            "\u001b[0;31mAttributeError\u001b[0m: 'int' object has no attribute 'shape'"
          ]
        }
      ]
    },
    {
      "cell_type": "code",
      "metadata": {
        "id": "a51352d9",
        "outputId": "78d52d02-8461-4bdc-ef78-5cc178ba93ca"
      },
      "source": [
        "np.shape(M)"
      ],
      "id": "a51352d9",
      "execution_count": null,
      "outputs": [
        {
          "data": {
            "text/plain": [
              "(2, 2)"
            ]
          },
          "execution_count": 89,
          "metadata": {},
          "output_type": "execute_result"
        }
      ]
    },
    {
      "cell_type": "markdown",
      "metadata": {
        "id": "3e1972e2"
      },
      "source": [
        "El número de elementos de un arreglo puede obtiene con ```ndarray.size``` o ```np.size(ndarray)```"
      ],
      "id": "3e1972e2"
    },
    {
      "cell_type": "code",
      "metadata": {
        "id": "caf8f811",
        "outputId": "14ffdc67-36a5-4c40-a28c-c53c214cc234"
      },
      "source": [
        "v.size "
      ],
      "id": "caf8f811",
      "execution_count": null,
      "outputs": [
        {
          "data": {
            "text/plain": [
              "4"
            ]
          },
          "execution_count": 90,
          "metadata": {},
          "output_type": "execute_result"
        }
      ]
    },
    {
      "cell_type": "code",
      "metadata": {
        "id": "edb4d90e",
        "outputId": "fb487b6b-9d4a-4cfe-aaa7-aa676324d1a8"
      },
      "source": [
        "np.size(v)"
      ],
      "id": "edb4d90e",
      "execution_count": null,
      "outputs": [
        {
          "data": {
            "text/plain": [
              "4"
            ]
          },
          "execution_count": 91,
          "metadata": {},
          "output_type": "execute_result"
        }
      ]
    },
    {
      "cell_type": "code",
      "metadata": {
        "id": "70b617b2",
        "colab": {
          "base_uri": "https://localhost:8080/",
          "height": 164
        },
        "outputId": "728d498d-c925-456c-f517-5830cb8201d5"
      },
      "source": [
        "M.size\n"
      ],
      "id": "70b617b2",
      "execution_count": null,
      "outputs": [
        {
          "output_type": "error",
          "ename": "AttributeError",
          "evalue": "ignored",
          "traceback": [
            "\u001b[0;31m---------------------------------------------------------------------------\u001b[0m",
            "\u001b[0;31mAttributeError\u001b[0m                            Traceback (most recent call last)",
            "\u001b[0;32m<ipython-input-44-326d987b6972>\u001b[0m in \u001b[0;36m<module>\u001b[0;34m()\u001b[0m\n\u001b[0;32m----> 1\u001b[0;31m \u001b[0mM\u001b[0m\u001b[0;34m.\u001b[0m\u001b[0msize\u001b[0m\u001b[0;34m\u001b[0m\u001b[0;34m\u001b[0m\u001b[0m\n\u001b[0m",
            "\u001b[0;31mAttributeError\u001b[0m: 'int' object has no attribute 'size'"
          ]
        }
      ]
    },
    {
      "cell_type": "code",
      "metadata": {
        "id": "6db6a20c",
        "colab": {
          "base_uri": "https://localhost:8080/"
        },
        "outputId": "6ac701de-7b66-424d-e3ea-3de9a70bd502"
      },
      "source": [
        "np.size(M)"
      ],
      "id": "6db6a20c",
      "execution_count": null,
      "outputs": [
        {
          "output_type": "execute_result",
          "data": {
            "text/plain": [
              "1"
            ]
          },
          "metadata": {},
          "execution_count": 43
        }
      ]
    },
    {
      "cell_type": "markdown",
      "metadata": {
        "id": "83c7ed29"
      },
      "source": [
        "#### Para saber que tipo de dato contiene el arreglo se puede usar ```dtype```"
      ],
      "id": "83c7ed29"
    },
    {
      "cell_type": "code",
      "metadata": {
        "id": "c8f71d7d",
        "colab": {
          "base_uri": "https://localhost:8080/",
          "height": 164
        },
        "outputId": "76252cdf-df9f-4095-b7ef-ddd007145a8d"
      },
      "source": [
        "M.dtype"
      ],
      "id": "c8f71d7d",
      "execution_count": null,
      "outputs": [
        {
          "output_type": "error",
          "ename": "AttributeError",
          "evalue": "ignored",
          "traceback": [
            "\u001b[0;31m---------------------------------------------------------------------------\u001b[0m",
            "\u001b[0;31mAttributeError\u001b[0m                            Traceback (most recent call last)",
            "\u001b[0;32m<ipython-input-42-db26aa5f1da7>\u001b[0m in \u001b[0;36m<module>\u001b[0;34m()\u001b[0m\n\u001b[0;32m----> 1\u001b[0;31m \u001b[0mM\u001b[0m\u001b[0;34m.\u001b[0m\u001b[0mdtype\u001b[0m\u001b[0;34m\u001b[0m\u001b[0;34m\u001b[0m\u001b[0m\n\u001b[0m",
            "\u001b[0;31mAttributeError\u001b[0m: 'int' object has no attribute 'dtype'"
          ]
        }
      ]
    },
    {
      "cell_type": "markdown",
      "metadata": {
        "id": "15ed7ed0"
      },
      "source": [
        "##### Algunos tipos comunes que pueden ser usados con dtype son: \n",
        "```int, float, complex, bool, object```"
      ],
      "id": "15ed7ed0"
    },
    {
      "cell_type": "markdown",
      "metadata": {
        "id": "a192e4fb"
      },
      "source": [
        "## Generar arraglos usando funciones"
      ],
      "id": "a192e4fb"
    },
    {
      "cell_type": "code",
      "metadata": {
        "id": "aeebf09b"
      },
      "source": [
        "# crea un arreglo con valores en un rango. Fijarse que el 20 no está incluido\n",
        "\n",
        "x = np.arange(0, 20, 2) # argumentos: desde, hasta, paso"
      ],
      "id": "aeebf09b",
      "execution_count": null,
      "outputs": []
    },
    {
      "cell_type": "code",
      "metadata": {
        "id": "ab0afafa",
        "outputId": "deeca934-fbbf-41bb-eef4-c5edba75b8bc"
      },
      "source": [
        "x"
      ],
      "id": "ab0afafa",
      "execution_count": null,
      "outputs": [
        {
          "data": {
            "text/plain": [
              "array([ 0,  2,  4,  6,  8, 10, 12, 14, 16, 18])"
            ]
          },
          "execution_count": 95,
          "metadata": {},
          "output_type": "execute_result"
        }
      ]
    },
    {
      "cell_type": "code",
      "metadata": {
        "id": "db565de1"
      },
      "source": [
        "# Se incluye -1 pero no el 1 en el arreglo\n",
        "a = np.arange(1, 6, 0.2)"
      ],
      "id": "db565de1",
      "execution_count": null,
      "outputs": []
    },
    {
      "cell_type": "code",
      "metadata": {
        "colab": {
          "base_uri": "https://localhost:8080/"
        },
        "id": "485b5b7f",
        "outputId": "85a34755-78fb-47a0-9286-69f201a7d1fb"
      },
      "source": [
        "a"
      ],
      "id": "485b5b7f",
      "execution_count": null,
      "outputs": [
        {
          "output_type": "execute_result",
          "data": {
            "text/plain": [
              "array([1. , 1.2, 1.4, 1.6, 1.8, 2. , 2.2, 2.4, 2.6, 2.8, 3. , 3.2, 3.4,\n",
              "       3.6, 3.8, 4. , 4.2, 4.4, 4.6, 4.8, 5. , 5.2, 5.4, 5.6, 5.8])"
            ]
          },
          "metadata": {},
          "execution_count": 65
        }
      ]
    },
    {
      "cell_type": "markdown",
      "metadata": {
        "id": "d3fd7dc2"
      },
      "source": [
        "### Usando ```linspace```  \n",
        "    Formato: (desde, hasta, número de elementos)\n",
        "    numpy.linspace(valor_inicial, valor_final, número_de_valores)"
      ],
      "id": "d3fd7dc2"
    },
    {
      "cell_type": "code",
      "metadata": {
        "id": "lIOThi8SdAZd"
      },
      "source": [
        ""
      ],
      "id": "lIOThi8SdAZd",
      "execution_count": null,
      "outputs": []
    },
    {
      "cell_type": "code",
      "metadata": {
        "colab": {
          "base_uri": "https://localhost:8080/"
        },
        "id": "8a18447d",
        "outputId": "a541717d-455a-424a-f8c4-eb0329592907"
      },
      "source": [
        "#Ambos puntos finales SON incluidos.\n",
        "np.linspace(0.5, 15, 40)\n"
      ],
      "id": "8a18447d",
      "execution_count": null,
      "outputs": [
        {
          "output_type": "execute_result",
          "data": {
            "text/plain": [
              "array([ 0.5       ,  0.87179487,  1.24358974,  1.61538462,  1.98717949,\n",
              "        2.35897436,  2.73076923,  3.1025641 ,  3.47435897,  3.84615385,\n",
              "        4.21794872,  4.58974359,  4.96153846,  5.33333333,  5.70512821,\n",
              "        6.07692308,  6.44871795,  6.82051282,  7.19230769,  7.56410256,\n",
              "        7.93589744,  8.30769231,  8.67948718,  9.05128205,  9.42307692,\n",
              "        9.79487179, 10.16666667, 10.53846154, 10.91025641, 11.28205128,\n",
              "       11.65384615, 12.02564103, 12.3974359 , 12.76923077, 13.14102564,\n",
              "       13.51282051, 13.88461538, 14.25641026, 14.62820513, 15.        ])"
            ]
          },
          "metadata": {},
          "execution_count": 64
        }
      ]
    },
    {
      "cell_type": "code",
      "metadata": {
        "colab": {
          "base_uri": "https://localhost:8080/"
        },
        "id": "fddf3f49",
        "outputId": "a2c03987-a26f-4128-8195-e6557cb33a47"
      },
      "source": [
        "a = np.linspace(0.5, 10, 25)\n",
        "print(a.dtype)\n",
        "print(a.shape)"
      ],
      "id": "fddf3f49",
      "execution_count": null,
      "outputs": [
        {
          "output_type": "stream",
          "name": "stdout",
          "text": [
            "float64\n",
            "(25,)\n"
          ]
        }
      ]
    },
    {
      "cell_type": "markdown",
      "metadata": {
        "id": "d607d1ad"
      },
      "source": [
        "## Usando matplotlib y linspace para graficar"
      ],
      "id": "d607d1ad"
    },
    {
      "cell_type": "code",
      "metadata": {
        "id": "6722a4f8",
        "colab": {
          "base_uri": "https://localhost:8080/"
        },
        "outputId": "50f67f4b-85d3-4eaa-87f3-22a61ab2cd54"
      },
      "source": [
        "import numpy as np\n",
        "import matplotlib.pyplot as plt\n",
        "\n",
        "# 10 numeros del 0 5 (incluye al 0 y al 5)\n",
        "test = np.linspace( 0, 5, 40 )                 \n",
        "print(\"x = \", test)\n",
        "y = np.sin(test)\n",
        "print(\"y = \", y)\n"
      ],
      "id": "6722a4f8",
      "execution_count": null,
      "outputs": [
        {
          "output_type": "stream",
          "name": "stdout",
          "text": [
            "x =  [0.         0.12820513 0.25641026 0.38461538 0.51282051 0.64102564\n",
            " 0.76923077 0.8974359  1.02564103 1.15384615 1.28205128 1.41025641\n",
            " 1.53846154 1.66666667 1.79487179 1.92307692 2.05128205 2.17948718\n",
            " 2.30769231 2.43589744 2.56410256 2.69230769 2.82051282 2.94871795\n",
            " 3.07692308 3.20512821 3.33333333 3.46153846 3.58974359 3.71794872\n",
            " 3.84615385 3.97435897 4.1025641  4.23076923 4.35897436 4.48717949\n",
            " 4.61538462 4.74358974 4.87179487 5.        ]\n",
            "y =  [ 0.          0.12785421  0.25360981  0.37520265  0.49063689  0.59801779\n",
            "  0.69558279  0.78173046  0.85504677  0.91432829  0.95860198  0.98714112\n",
            "  0.99947728  0.99540796  0.97499996  0.93858826  0.88677052  0.82039728\n",
            "  0.740558    0.64856316  0.54592277  0.43432157  0.31559139  0.19168108\n",
            "  0.06462451 -0.06349281 -0.19056796 -0.31451512 -0.43329981 -0.54497229\n",
            " -0.64769957 -0.73979547 -0.81974833 -0.88624579 -0.93819637 -0.97474735\n",
            " -0.99529876 -0.9995133  -0.98732176 -0.95892427]\n"
          ]
        }
      ]
    },
    {
      "cell_type": "code",
      "metadata": {
        "id": "9564df37",
        "outputId": "fc735d6a-feb8-4c99-da8a-a230ad2b7df9"
      },
      "source": [
        "plt.plot(test,y)\n",
        "plt.show()"
      ],
      "id": "9564df37",
      "execution_count": null,
      "outputs": [
        {
          "data": {
            "image/png": "[encoded data removed]",
            "text/plain": [
              "<Figure size 432x288 with 1 Axes>"
            ]
          },
          "metadata": {
            "needs_background": "light"
          },
          "output_type": "display_data"
        }
      ]
    },
    {
      "cell_type": "code",
      "metadata": {
        "id": "bcaa6733",
        "outputId": "5a942616-cd99-4e87-a402-fa2b7e6c14c0"
      },
      "source": [
        "x = np.linspace( 0, 2*np.pi, 100)\n",
        "y = np.sin(x)\n",
        "#print(\"x = \", x)\n",
        "#print(\"y = \", y)\n",
        "\n",
        "\n",
        "plt.plot(x,y)\n",
        "plt.show()"
      ],
      "id": "bcaa6733",
      "execution_count": null,
      "outputs": [
        {
          "data": {
            "image/png": "[encoded data removed]",
            "text/plain": [
              "<Figure size 432x288 with 1 Axes>"
            ]
          },
          "metadata": {
            "needs_background": "light"
          },
          "output_type": "display_data"
        }
      ]
    },
    {
      "cell_type": "code",
      "metadata": {
        "id": "70e3ba82",
        "outputId": "9b1aab87-551b-49d1-f2b5-6b018618eaf4"
      },
      "source": [
        "x = np.linspace( 0, 100, 100)\n",
        "y = np.cos(x)\n",
        "#print(\"x = \", x)\n",
        "#print(\"y = \", y)\n",
        "\n",
        "plt.plot(x,y)\n",
        "plt.show()"
      ],
      "id": "70e3ba82",
      "execution_count": null,
      "outputs": [
        {
          "data": {
            "image/png": "[encoded data removed]",
            "text/plain": [
              "<Figure size 432x288 with 1 Axes>"
            ]
          },
          "metadata": {
            "needs_background": "light"
          },
          "output_type": "display_data"
        }
      ]
    },
    {
      "cell_type": "markdown",
      "metadata": {
        "id": "ee072687"
      },
      "source": [
        "### Usando ```logspace```\n",
        "\n",
        "De forma semejante, la función numpy.logspace genera un array Numpy formado también por n números entre dos dados, pero en una escala logarítmica. Por ejemplo:"
      ],
      "id": "ee072687"
    },
    {
      "cell_type": "code",
      "metadata": {
        "id": "28b6c3ee",
        "outputId": "9b72cbed-4d7a-4aaa-d341-8a9b4d6e8610"
      },
      "source": [
        "#Por defecto base=10\n",
        "m = np.logspace(1, 10, 10, base=2)\n",
        "m"
      ],
      "id": "28b6c3ee",
      "execution_count": null,
      "outputs": [
        {
          "data": {
            "text/plain": [
              "array([   2.,    4.,    8.,   16.,   32.,   64.,  128.,  256.,  512.,\n",
              "       1024.])"
            ]
          },
          "execution_count": 121,
          "metadata": {},
          "output_type": "execute_result"
        }
      ]
    },
    {
      "cell_type": "markdown",
      "metadata": {
        "id": "a315903d"
      },
      "source": [
        "### Creando una matriz a partir de listas"
      ],
      "id": "a315903d"
    },
    {
      "cell_type": "code",
      "metadata": {
        "colab": {
          "base_uri": "https://localhost:8080/"
        },
        "id": "adaedadc",
        "outputId": "ae040618-85d2-48ac-93ae-f00fb5037368"
      },
      "source": [
        "print(\"Matriz creada con una lista de listas:\")\n",
        "lista_de_listas=[ [1  ,-4], \n",
        "                  [12 , 3], \n",
        "                  [7.2, 5]]\n",
        "matriz = np.array(lista_de_listas)\n",
        "print(matriz)"
      ],
      "id": "adaedadc",
      "execution_count": null,
      "outputs": [
        {
          "output_type": "stream",
          "name": "stdout",
          "text": [
            "Matriz creada con una lista de listas:\n",
            "[[ 1.  -4. ]\n",
            " [12.   3. ]\n",
            " [ 7.2  5. ]]\n"
          ]
        }
      ]
    },
    {
      "cell_type": "markdown",
      "metadata": {
        "id": "0411e8df"
      },
      "source": [
        "### Crear una matriz de ceros ```np.zeros(dimensiones)```"
      ],
      "id": "0411e8df"
    },
    {
      "cell_type": "code",
      "metadata": {
        "id": "c10bcda7",
        "colab": {
          "base_uri": "https://localhost:8080/"
        },
        "outputId": "71564427-2cce-487c-fca4-4878acefdf6c"
      },
      "source": [
        "print(\"- Matriz creada con np.zeros:\")\n",
        "dimensiones=(5,8)\n",
        "matriz_ceros = np.zeros(dimensiones)\n",
        "print(matriz_ceros)"
      ],
      "id": "c10bcda7",
      "execution_count": null,
      "outputs": [
        {
          "output_type": "stream",
          "name": "stdout",
          "text": [
            "- Matriz creada con np.zeros:\n",
            "[[0. 0. 0. 0. 0. 0. 0. 0.]\n",
            " [0. 0. 0. 0. 0. 0. 0. 0.]\n",
            " [0. 0. 0. 0. 0. 0. 0. 0.]\n",
            " [0. 0. 0. 0. 0. 0. 0. 0.]\n",
            " [0. 0. 0. 0. 0. 0. 0. 0.]]\n"
          ]
        }
      ]
    },
    {
      "cell_type": "markdown",
      "metadata": {
        "id": "e06d4a63"
      },
      "source": [
        "### Crear una matriz de unos  ```np.ones(dimensiones)```"
      ],
      "id": "e06d4a63"
    },
    {
      "cell_type": "code",
      "metadata": {
        "id": "b29a234b",
        "colab": {
          "base_uri": "https://localhost:8080/"
        },
        "outputId": "e0f774a4-653c-4057-df6d-2ce24cf12316"
      },
      "source": [
        "\n",
        "print(\"- Matriz creada con np.ones:\")\n",
        "dimensiones=(8,8)\n",
        "matriz_unos = np.ones(dimensiones)\n",
        "print(matriz_unos)"
      ],
      "id": "b29a234b",
      "execution_count": null,
      "outputs": [
        {
          "output_type": "stream",
          "name": "stdout",
          "text": [
            "- Matriz creada con np.ones:\n",
            "[[1. 1. 1. 1. 1. 1. 1. 1.]\n",
            " [1. 1. 1. 1. 1. 1. 1. 1.]\n",
            " [1. 1. 1. 1. 1. 1. 1. 1.]\n",
            " [1. 1. 1. 1. 1. 1. 1. 1.]\n",
            " [1. 1. 1. 1. 1. 1. 1. 1.]\n",
            " [1. 1. 1. 1. 1. 1. 1. 1.]\n",
            " [1. 1. 1. 1. 1. 1. 1. 1.]\n",
            " [1. 1. 1. 1. 1. 1. 1. 1.]]\n"
          ]
        }
      ]
    },
    {
      "cell_type": "code",
      "metadata": {
        "id": "19778115",
        "outputId": "cd55b976-1bf2-43d3-f892-bb636149d3ad"
      },
      "source": [
        "#también podemos usar np.copy para copiar una matriz \n",
        "print(\"Copia de la matriz creada con np.ones:\")\n",
        "matriz_unos_copia=np.copy(matriz_unos)\n",
        "print(matriz_unos_copia)\n"
      ],
      "id": "19778115",
      "execution_count": null,
      "outputs": [
        {
          "name": "stdout",
          "output_type": "stream",
          "text": [
            "Copia de la matriz creada con np.ones:\n",
            "[[1. 1. 1. 1. 1. 1. 1. 1.]\n",
            " [1. 1. 1. 1. 1. 1. 1. 1.]\n",
            " [1. 1. 1. 1. 1. 1. 1. 1.]\n",
            " [1. 1. 1. 1. 1. 1. 1. 1.]\n",
            " [1. 1. 1. 1. 1. 1. 1. 1.]\n",
            " [1. 1. 1. 1. 1. 1. 1. 1.]\n",
            " [1. 1. 1. 1. 1. 1. 1. 1.]\n",
            " [1. 1. 1. 1. 1. 1. 1. 1.]]\n"
          ]
        }
      ]
    },
    {
      "cell_type": "markdown",
      "metadata": {
        "id": "c3ce3257"
      },
      "source": [
        "### Acceder a las matrices"
      ],
      "id": "c3ce3257"
    },
    {
      "cell_type": "code",
      "metadata": {
        "colab": {
          "base_uri": "https://localhost:8080/"
        },
        "id": "e6fd7e20",
        "outputId": "69ec5963-7148-4c4d-cd3f-8c42fe7bbe1e"
      },
      "source": [
        "import numpy as np\n",
        "lista_de_listas=[ [1  ,-4, 5, 6], \n",
        "                  [12 , 3, 4, 33], \n",
        "                  [7.2, 5, 3.3, 60]]\n",
        "np.array(lista_de_listas)\n",
        "a=np.array(lista_de_listas)\n",
        "\n",
        "print(\"Elementos individuales\")\n",
        "print(a[0,3])\n",
        "print(a[2,1])\n",
        "\n"
      ],
      "id": "e6fd7e20",
      "execution_count": null,
      "outputs": [
        {
          "output_type": "stream",
          "name": "stdout",
          "text": [
            "Elementos individuales\n",
            "6.0\n",
            "5.0\n"
          ]
        }
      ]
    },
    {
      "cell_type": "code",
      "metadata": {
        "colab": {
          "base_uri": "https://localhost:8080/"
        },
        "id": "19ab5f97",
        "outputId": "b974e45f-ae54-4b1c-d952-95ae6e5193b5"
      },
      "source": [
        "print(\"Vector de elementos de la fila 0\")\n",
        "print(a[0,:])\n",
        "\n"
      ],
      "id": "19ab5f97",
      "execution_count": null,
      "outputs": [
        {
          "output_type": "stream",
          "name": "stdout",
          "text": [
            "Vector de elementos de la fila 0\n",
            "[ 1. -4.  5.  6.]\n"
          ]
        }
      ]
    },
    {
      "cell_type": "code",
      "metadata": {
        "id": "afd11f59",
        "outputId": "7c092960-74dd-44c4-8b32-6ec5ea1a04a6"
      },
      "source": [
        "print(\"Vector de elementos de la fila 1\")\n",
        "print(a[1,:])"
      ],
      "id": "afd11f59",
      "execution_count": null,
      "outputs": [
        {
          "name": "stdout",
          "output_type": "stream",
          "text": [
            "Vector de elementos de la fila 1\n",
            "[12.  3.  4. 33.]\n"
          ]
        }
      ]
    },
    {
      "cell_type": "code",
      "metadata": {
        "id": "2781affa",
        "outputId": "b04d2e5d-b021-4765-8138-e053952e4286"
      },
      "source": [
        "print(\"Vector de elementos de la fila 2\")\n",
        "print(a[2,:])"
      ],
      "id": "2781affa",
      "execution_count": null,
      "outputs": [
        {
          "name": "stdout",
          "output_type": "stream",
          "text": [
            "Vector de elementos de la fila 2\n",
            "[ 7.2  5.   3.3 60. ]\n"
          ]
        }
      ]
    },
    {
      "cell_type": "code",
      "metadata": {
        "id": "a995277a",
        "outputId": "ff8514aa-fb21-4706-d846-147d036008c6"
      },
      "source": [
        "print(\"Submatriz de 2x2 con las primeras dos filas\")\n",
        "print(a[0:2,:])"
      ],
      "id": "a995277a",
      "execution_count": null,
      "outputs": [
        {
          "name": "stdout",
          "output_type": "stream",
          "text": [
            "Submatriz de 2x2 con las primeras dos filas\n",
            "[[ 1. -4.  5.  6.]\n",
            " [12.  3.  4. 33.]]\n"
          ]
        }
      ]
    },
    {
      "cell_type": "code",
      "metadata": {
        "id": "ced66db3",
        "outputId": "97649923-1782-4877-e281-453b8c8bbee3"
      },
      "source": [
        "print(\"Submatriz de 2x2 con las ultimas dos filas\")\n",
        "print(a[1:3,:])\n"
      ],
      "id": "ced66db3",
      "execution_count": null,
      "outputs": [
        {
          "name": "stdout",
          "output_type": "stream",
          "text": [
            "Submatriz de 2x2 con las ultimas dos filas\n",
            "[[12.   3.   4.  33. ]\n",
            " [ 7.2  5.   3.3 60. ]]\n"
          ]
        }
      ]
    },
    {
      "cell_type": "markdown",
      "metadata": {
        "id": "9e46319a"
      },
      "source": [
        "### Modificando matrices"
      ],
      "id": "9e46319a"
    },
    {
      "cell_type": "code",
      "metadata": {
        "id": "c9f86453",
        "outputId": "3cd6dda7-d8d9-4d5e-da02-45f3b521bbbf"
      },
      "source": [
        "lista_de_listas=[ [1,-40], \n",
        "                  [12,30], \n",
        "                  [7, 5.0]]\n",
        "a = np.array(lista_de_listas)\n",
        "\n",
        "print(\"Matriz original:\")\n",
        "print(a)\n",
        "\n",
        "print(\"Le asignamos el valor 4 a los elementos de la columna 0:\")\n",
        "a[:,0]=4\n",
        "print(a)"
      ],
      "id": "c9f86453",
      "execution_count": null,
      "outputs": [
        {
          "name": "stdout",
          "output_type": "stream",
          "text": [
            "Matriz original:\n",
            "[[  1. -40.]\n",
            " [ 12.  30.]\n",
            " [  7.   5.]]\n",
            "Le asignamos el valor 4 a los elementos de la columna 0:\n",
            "[[  4. -40.]\n",
            " [  4.  30.]\n",
            " [  4.   5.]]\n"
          ]
        }
      ]
    },
    {
      "cell_type": "code",
      "metadata": {
        "id": "754bff05",
        "colab": {
          "base_uri": "https://localhost:8080/"
        },
        "outputId": "b4cf7e54-f8fa-4f27-abf6-d46f44966191"
      },
      "source": [
        "print(\"Matriz original:\")\n",
        "print(a)\n",
        "print(\"Dividimos por 2 la columna 1:\")\n",
        "a[:,1]=a[:,1]/2.0\n",
        "print(a)"
      ],
      "id": "754bff05",
      "execution_count": null,
      "outputs": [
        {
          "output_type": "stream",
          "name": "stdout",
          "text": [
            "Matriz original:\n",
            "[[ 1.  -4.   5.   6. ]\n",
            " [12.   3.   4.  33. ]\n",
            " [ 7.2  5.   3.3 60. ]]\n",
            "Dividimos por 2 la columna 1:\n",
            "[[ 1.  -2.   5.   6. ]\n",
            " [12.   1.5  4.  33. ]\n",
            " [ 7.2  2.5  3.3 60. ]]\n"
          ]
        }
      ]
    },
    {
      "cell_type": "code",
      "metadata": {
        "id": "b04d248b",
        "outputId": "569d5ddc-bcfd-45af-9299-2c61c2f6492d"
      },
      "source": [
        "print(\"Matriz original:\")\n",
        "print(a)\n",
        "print(\"Le sumamos 1 a toda la matriz:\")\n",
        "a=a+1\n",
        "print(a)"
      ],
      "id": "b04d248b",
      "execution_count": null,
      "outputs": [
        {
          "name": "stdout",
          "output_type": "stream",
          "text": [
            "Matriz original:\n",
            "[[  4.   -10.  ]\n",
            " [  4.     7.5 ]\n",
            " [  4.     1.25]]\n",
            "Le sumamos 1 a toda la matriz:\n",
            "[[ 5.   -9.  ]\n",
            " [ 5.    8.5 ]\n",
            " [ 5.    2.25]]\n"
          ]
        }
      ]
    },
    {
      "cell_type": "markdown",
      "metadata": {
        "id": "b7e1bdbe"
      },
      "source": [
        "## eye : Crea una matriz identidad del tamaño indicado en el argumento."
      ],
      "id": "b7e1bdbe"
    },
    {
      "cell_type": "code",
      "metadata": {
        "colab": {
          "base_uri": "https://localhost:8080/"
        },
        "id": "a0bcf48b",
        "outputId": "afd0cd1a-b312-4537-fd0f-9f2be420cf1f"
      },
      "source": [
        "np.eye(10)"
      ],
      "id": "a0bcf48b",
      "execution_count": null,
      "outputs": [
        {
          "output_type": "execute_result",
          "data": {
            "text/plain": [
              "array([[1., 0., 0., 0., 0., 0., 0., 0., 0., 0.],\n",
              "       [0., 1., 0., 0., 0., 0., 0., 0., 0., 0.],\n",
              "       [0., 0., 1., 0., 0., 0., 0., 0., 0., 0.],\n",
              "       [0., 0., 0., 1., 0., 0., 0., 0., 0., 0.],\n",
              "       [0., 0., 0., 0., 1., 0., 0., 0., 0., 0.],\n",
              "       [0., 0., 0., 0., 0., 1., 0., 0., 0., 0.],\n",
              "       [0., 0., 0., 0., 0., 0., 1., 0., 0., 0.],\n",
              "       [0., 0., 0., 0., 0., 0., 0., 1., 0., 0.],\n",
              "       [0., 0., 0., 0., 0., 0., 0., 0., 1., 0.],\n",
              "       [0., 0., 0., 0., 0., 0., 0., 0., 0., 1.]])"
            ]
          },
          "metadata": {},
          "execution_count": 56
        }
      ]
    },
    {
      "cell_type": "markdown",
      "metadata": {
        "id": "3699de9f"
      },
      "source": [
        "### random.rand() : Crea una matriz aleatoria de 3x3 con valores entre 0 y 1\n"
      ],
      "id": "3699de9f"
    },
    {
      "cell_type": "code",
      "metadata": {
        "colab": {
          "base_uri": "https://localhost:8080/"
        },
        "id": "b94ea42b",
        "outputId": "bcf49bac-b7f6-44cb-dc15-93962eb4c36a"
      },
      "source": [
        "# tareas buscar seed con el uso random.rand \n",
        "matriz_aleatoria=np.random.rand(2,4)\n",
        "print(matriz_aleatoria)"
      ],
      "id": "b94ea42b",
      "execution_count": null,
      "outputs": [
        {
          "output_type": "stream",
          "name": "stdout",
          "text": [
            "[[0.29723233 0.40250682 0.02591029 0.51263149]\n",
            " [0.65406685 0.2118378  0.54360453 0.52004033]]\n"
          ]
        }
      ]
    },
    {
      "cell_type": "markdown",
      "metadata": {
        "id": "ed94bbb8"
      },
      "source": [
        "### Randn(): Retorna un arreglo con una muestra de números aleatorios con una distribución normal (centrada en 0), a diferencia de rand cuya distribución es uniforme:"
      ],
      "id": "ed94bbb8"
    },
    {
      "cell_type": "code",
      "metadata": {
        "id": "8f7b6365",
        "outputId": "0da8b431-10dc-46c3-dbc8-d8a687798366"
      },
      "source": [
        "np.random.randn(5)"
      ],
      "id": "8f7b6365",
      "execution_count": null,
      "outputs": [
        {
          "data": {
            "text/plain": [
              "array([ 0.84987505, -0.38611833, -1.47690028, -1.03862103, -2.02017369])"
            ]
          },
          "execution_count": 153,
          "metadata": {},
          "output_type": "execute_result"
        }
      ]
    },
    {
      "cell_type": "code",
      "metadata": {
        "id": "f2168e2f",
        "outputId": "a9110783-3974-4ba9-e776-34c1ae9de8db"
      },
      "source": [
        "np.random.randn(4,5)"
      ],
      "id": "f2168e2f",
      "execution_count": null,
      "outputs": [
        {
          "data": {
            "text/plain": [
              "array([[ 0.85344836,  0.23892728,  0.24264144, -0.70567478, -0.35597222],\n",
              "       [-0.78171216, -0.53627629,  0.43172593,  2.13284154,  0.14121778],\n",
              "       [ 0.48030188,  0.94415283, -0.45476869,  1.93652877,  1.01743738],\n",
              "       [ 0.21665164, -2.06289278, -0.00516895, -0.21579605,  0.61088153]])"
            ]
          },
          "execution_count": 154,
          "metadata": {},
          "output_type": "execute_result"
        }
      ]
    },
    {
      "cell_type": "markdown",
      "metadata": {
        "id": "524d4839"
      },
      "source": [
        "# Otras bibliotecas de utilidad para el cálculo o análisis científico\n",
        "## Visualización con Matplotlib\n",
        "Es una biblioteca de gráficos 2D y 3D para generar imágenes científicas. \n",
        "Puedes ver mas información en http://matplotlib.org/"
      ],
      "id": "524d4839"
    },
    {
      "cell_type": "code",
      "metadata": {
        "id": "kmhJvCyaiwiL"
      },
      "source": [
        ""
      ],
      "id": "kmhJvCyaiwiL",
      "execution_count": null,
      "outputs": []
    },
    {
      "cell_type": "code",
      "metadata": {
        "id": "4eb9ebe9",
        "outputId": "4ebc677c-d909-418f-e48c-673471f1cdbe"
      },
      "source": [
        "# Importando los paquetes necesarios\n",
        "import matplotlib.pyplot as plt\n",
        "import numpy as np\n",
        "\n",
        "# Preparando los datos . Recordar lindspace --> (desde, hasta, número de elementos)\n",
        "x = np.linspace(0, 10, 100)\n",
        "\n",
        "# Graficar\n",
        "plt.plot(x, x, label='linear')\n",
        "\n",
        "# Agregar leyenda\n",
        "plt.legend()\n",
        "\n",
        "# Mostrar el gráfico\n",
        "plt.show()\n",
        "\n"
      ],
      "id": "4eb9ebe9",
      "execution_count": null,
      "outputs": [
        {
          "data": {
            "image/png": "[encoded data removed]",
            "text/plain": [
              "<Figure size 432x288 with 1 Axes>"
            ]
          },
          "metadata": {
            "needs_background": "light"
          },
          "output_type": "display_data"
        }
      ]
    },
    {
      "cell_type": "markdown",
      "metadata": {
        "id": "b5cbdbd2"
      },
      "source": [
        "### Más adelante vamos a tener una clase de visualización y además se enviará material de apoyo"
      ],
      "id": "b5cbdbd2"
    },
    {
      "cell_type": "markdown",
      "metadata": {
        "id": "a213653b"
      },
      "source": [
        "## Visualización con Seaborn\n",
        "\n",
        "Seaborn incluye un interesante conjunto de datasets que pueden ser utilizados para probar las distintas visualizaciones. La función disponible para la carga de estos conjuntos de datos es ```seaborn.load_dataset```, devolviendo un dataframe pandas. \n",
        "\n",
        "***Datos \"Tips\"*** = En este conjunto de datos hay información sobre propinas dejadas en un restaurante, con información sobre el día en el que se produjo, si fue en el almuerzo o la cena, el número de comensales, el sexo de la persona que dejó la propina, si era fumador o no.\n",
        "\n",
        "Se puede encontrar la data en este link: https://github.com/mwaskom/seaborn-data\n"
      ],
      "id": "a213653b"
    },
    {
      "cell_type": "code",
      "metadata": {
        "id": "70049775"
      },
      "source": [
        "import seaborn as sns\n",
        "tips = sns.load_dataset(\"tips\")\n"
      ],
      "id": "70049775",
      "execution_count": null,
      "outputs": []
    },
    {
      "cell_type": "code",
      "metadata": {
        "id": "f4c98efb",
        "outputId": "73da10b3-21b8-41f6-cbcc-53ecdee4fa8a"
      },
      "source": [
        "tips"
      ],
      "id": "f4c98efb",
      "execution_count": null,
      "outputs": [
        {
          "data": {
            "text/html": [
              "<div>\n",
              "<style scoped>\n",
              "    .dataframe tbody tr th:only-of-type {\n",
              "        vertical-align: middle;\n",
              "    }\n",
              "\n",
              "    .dataframe tbody tr th {\n",
              "        vertical-align: top;\n",
              "    }\n",
              "\n",
              "    .dataframe thead th {\n",
              "        text-align: right;\n",
              "    }\n",
              "</style>\n",
              "<table border=\"1\" class=\"dataframe\">\n",
              "  <thead>\n",
              "    <tr style=\"text-align: right;\">\n",
              "      <th></th>\n",
              "      <th>total_bill</th>\n",
              "      <th>tip</th>\n",
              "      <th>sex</th>\n",
              "      <th>smoker</th>\n",
              "      <th>day</th>\n",
              "      <th>time</th>\n",
              "      <th>size</th>\n",
              "    </tr>\n",
              "  </thead>\n",
              "  <tbody>\n",
              "    <tr>\n",
              "      <th>0</th>\n",
              "      <td>16.99</td>\n",
              "      <td>1.01</td>\n",
              "      <td>Female</td>\n",
              "      <td>No</td>\n",
              "      <td>Sun</td>\n",
              "      <td>Dinner</td>\n",
              "      <td>2</td>\n",
              "    </tr>\n",
              "    <tr>\n",
              "      <th>1</th>\n",
              "      <td>10.34</td>\n",
              "      <td>1.66</td>\n",
              "      <td>Male</td>\n",
              "      <td>No</td>\n",
              "      <td>Sun</td>\n",
              "      <td>Dinner</td>\n",
              "      <td>3</td>\n",
              "    </tr>\n",
              "    <tr>\n",
              "      <th>2</th>\n",
              "      <td>21.01</td>\n",
              "      <td>3.50</td>\n",
              "      <td>Male</td>\n",
              "      <td>No</td>\n",
              "      <td>Sun</td>\n",
              "      <td>Dinner</td>\n",
              "      <td>3</td>\n",
              "    </tr>\n",
              "    <tr>\n",
              "      <th>3</th>\n",
              "      <td>23.68</td>\n",
              "      <td>3.31</td>\n",
              "      <td>Male</td>\n",
              "      <td>No</td>\n",
              "      <td>Sun</td>\n",
              "      <td>Dinner</td>\n",
              "      <td>2</td>\n",
              "    </tr>\n",
              "    <tr>\n",
              "      <th>4</th>\n",
              "      <td>24.59</td>\n",
              "      <td>3.61</td>\n",
              "      <td>Female</td>\n",
              "      <td>No</td>\n",
              "      <td>Sun</td>\n",
              "      <td>Dinner</td>\n",
              "      <td>4</td>\n",
              "    </tr>\n",
              "    <tr>\n",
              "      <th>...</th>\n",
              "      <td>...</td>\n",
              "      <td>...</td>\n",
              "      <td>...</td>\n",
              "      <td>...</td>\n",
              "      <td>...</td>\n",
              "      <td>...</td>\n",
              "      <td>...</td>\n",
              "    </tr>\n",
              "    <tr>\n",
              "      <th>239</th>\n",
              "      <td>29.03</td>\n",
              "      <td>5.92</td>\n",
              "      <td>Male</td>\n",
              "      <td>No</td>\n",
              "      <td>Sat</td>\n",
              "      <td>Dinner</td>\n",
              "      <td>3</td>\n",
              "    </tr>\n",
              "    <tr>\n",
              "      <th>240</th>\n",
              "      <td>27.18</td>\n",
              "      <td>2.00</td>\n",
              "      <td>Female</td>\n",
              "      <td>Yes</td>\n",
              "      <td>Sat</td>\n",
              "      <td>Dinner</td>\n",
              "      <td>2</td>\n",
              "    </tr>\n",
              "    <tr>\n",
              "      <th>241</th>\n",
              "      <td>22.67</td>\n",
              "      <td>2.00</td>\n",
              "      <td>Male</td>\n",
              "      <td>Yes</td>\n",
              "      <td>Sat</td>\n",
              "      <td>Dinner</td>\n",
              "      <td>2</td>\n",
              "    </tr>\n",
              "    <tr>\n",
              "      <th>242</th>\n",
              "      <td>17.82</td>\n",
              "      <td>1.75</td>\n",
              "      <td>Male</td>\n",
              "      <td>No</td>\n",
              "      <td>Sat</td>\n",
              "      <td>Dinner</td>\n",
              "      <td>2</td>\n",
              "    </tr>\n",
              "    <tr>\n",
              "      <th>243</th>\n",
              "      <td>18.78</td>\n",
              "      <td>3.00</td>\n",
              "      <td>Female</td>\n",
              "      <td>No</td>\n",
              "      <td>Thur</td>\n",
              "      <td>Dinner</td>\n",
              "      <td>2</td>\n",
              "    </tr>\n",
              "  </tbody>\n",
              "</table>\n",
              "<p>244 rows × 7 columns</p>\n",
              "</div>"
            ],
            "text/plain": [
              "     total_bill   tip     sex smoker   day    time  size\n",
              "0         16.99  1.01  Female     No   Sun  Dinner     2\n",
              "1         10.34  1.66    Male     No   Sun  Dinner     3\n",
              "2         21.01  3.50    Male     No   Sun  Dinner     3\n",
              "3         23.68  3.31    Male     No   Sun  Dinner     2\n",
              "4         24.59  3.61  Female     No   Sun  Dinner     4\n",
              "..          ...   ...     ...    ...   ...     ...   ...\n",
              "239       29.03  5.92    Male     No   Sat  Dinner     3\n",
              "240       27.18  2.00  Female    Yes   Sat  Dinner     2\n",
              "241       22.67  2.00    Male    Yes   Sat  Dinner     2\n",
              "242       17.82  1.75    Male     No   Sat  Dinner     2\n",
              "243       18.78  3.00  Female     No  Thur  Dinner     2\n",
              "\n",
              "[244 rows x 7 columns]"
            ]
          },
          "execution_count": 160,
          "metadata": {},
          "output_type": "execute_result"
        }
      ]
    },
    {
      "cell_type": "code",
      "metadata": {
        "id": "68c03700",
        "outputId": "8e95f8a4-9951-4f0a-8576-c2ce35929ba0"
      },
      "source": [
        "# set a theme\n",
        "sns.set_theme()\n",
        "# Create a visualization\n",
        "sns.relplot(\n",
        "    data=tips,\n",
        "    x=\"total_bill\", y=\"tip\", col=\"time\",\n",
        "    hue=\"smoker\", style=\"smoker\", size=\"size\",\n",
        ")\n"
      ],
      "id": "68c03700",
      "execution_count": null,
      "outputs": [
        {
          "data": {
            "text/plain": [
              "<seaborn.axisgrid.FacetGrid at 0x1199a4550>"
            ]
          },
          "execution_count": 161,
          "metadata": {},
          "output_type": "execute_result"
        },
        {
          "data": {
            "image/png": "[encoded data removed]",
            "text/plain": [
              "<Figure size 777.475x360 with 2 Axes>"
            ]
          },
          "metadata": {},
          "output_type": "display_data"
        }
      ]
    },
    {
      "cell_type": "markdown",
      "metadata": {
        "id": "9969e759"
      },
      "source": [
        "# Github\n",
        "### 1.- [Instalacion de Git](https://github.com/dtravisany/ACI777/blob/main/02_Instalacion_Git/README.md)\n",
        "### 2.- Descragar hoja de referencia, tambien llamadas [cheat sheets](https://training.github.com/downloads/es_ES/github-git-cheat-sheet.pdf)"
      ],
      "id": "9969e759"
    },
    {
      "cell_type": "markdown",
      "metadata": {
        "id": "ab48d3f8"
      },
      "source": [
        "# Ejercicios"
      ],
      "id": "ab48d3f8"
    },
    {
      "cell_type": "markdown",
      "metadata": {
        "id": "fdfa6ff5"
      },
      "source": [
        "### Pasar el siguiente script a una función llamada saludo\n",
        "\n",
        "~~~\n",
        "# Script saludo\n",
        "print(\"Hello, I'm Python!\")\n",
        "\n",
        "# Input, assignment\n",
        "name = input('What is your name?\\n')\n",
        "print('Hi, %s.' % name)\n",
        "~~~"
      ],
      "id": "fdfa6ff5"
    },
    {
      "cell_type": "markdown",
      "metadata": {
        "id": "SwR54Wwj2pOK"
      },
      "source": [
        ""
      ],
      "id": "SwR54Wwj2pOK"
    },
    {
      "cell_type": "code",
      "metadata": {
        "id": "FTI069N32orQ"
      },
      "source": [
        "def saludos(name):\n",
        "  print(\"Hello, I'm Python!\")\n",
        "  print('Hola',name)"
      ],
      "id": "FTI069N32orQ",
      "execution_count": null,
      "outputs": []
    },
    {
      "cell_type": "code",
      "metadata": {
        "colab": {
          "base_uri": "https://localhost:8080/"
        },
        "id": "73ac3ff7",
        "outputId": "4792196e-1410-4cdc-ddfc-86abdcb3ae46"
      },
      "source": [
        "name = input('What is your name?\\n')\n",
        "saludos(name)"
      ],
      "id": "73ac3ff7",
      "execution_count": null,
      "outputs": [
        {
          "output_type": "stream",
          "name": "stdout",
          "text": [
            "What is your name?\n",
            "diego\n",
            "Hello, I'm Python!\n",
            "Hola diego\n"
          ]
        }
      ]
    },
    {
      "cell_type": "markdown",
      "metadata": {
        "id": "38c51f33"
      },
      "source": [
        "### Hacer un script o funcion Fibinacci diferente a la usada en clases y exlicarla\n",
        " "
      ],
      "id": "38c51f33"
    },
    {
      "cell_type": "code",
      "metadata": {
        "colab": {
          "base_uri": "https://localhost:8080/"
        },
        "id": "cae35ba4",
        "outputId": "325f622b-ab8c-4cd4-f494-c83d2c7bc9b8"
      },
      "source": [
        "def fib(n):\n",
        "    a, b = 0,1\n",
        "    while a < n:\n",
        "        print(a, end=' ')\n",
        "        a, b = b, a+b\n",
        "    print()\n",
        "fib(10)\n",
        "    "
      ],
      "id": "cae35ba4",
      "execution_count": null,
      "outputs": [
        {
          "output_type": "stream",
          "name": "stdout",
          "text": [
            "0 1 1 2 3 5 8 \n"
          ]
        }
      ]
    },
    {
      "cell_type": "markdown",
      "metadata": {
        "id": "15103102"
      },
      "source": [
        "### Realizar una función que reciba una lista y devuelva la suma de sus elementos"
      ],
      "id": "15103102"
    },
    {
      "cell_type": "code",
      "metadata": {
        "colab": {
          "base_uri": "https://localhost:8080/"
        },
        "id": "62117a2d",
        "outputId": "c95e368f-9897-48a8-ddee-75a10dde84f1"
      },
      "source": [
        "#completar\n",
        "def suma_lista(lista):\n",
        "    suma=0\n",
        "    for lista in lista:\n",
        "        suma  += lista\n",
        "    return suma\n",
        "\n",
        "#Uso\n",
        "mi_lista = [54,12,99,15]\n",
        "print (\"Los elementos de la lista sumna:\")\n",
        "print(suma_lista(mi_lista))\n",
        "\n",
        "## Salida\n",
        "# Los elementos de la lista suman:\n",
        "# 180\n"
      ],
      "id": "62117a2d",
      "execution_count": null,
      "outputs": [
        {
          "output_type": "stream",
          "name": "stdout",
          "text": [
            "Los elementos de la lista sumna:\n",
            "180\n"
          ]
        }
      ]
    },
    {
      "cell_type": "code",
      "metadata": {
        "colab": {
          "base_uri": "https://localhost:8080/"
        },
        "id": "d033f898",
        "outputId": "42261f1c-8880-4f76-8087-c6a99328092e"
      },
      "source": [
        "\n",
        "l=[1,4,2,6,5,6,4,2,4,6,1,7,1,4,5,1,1,5,3,2,6,3,1,1,6,4,2,3,4,9,8,6,4,3]\n",
        "\n",
        "def ocurrencias(lista,valor):\n",
        "    # IMPLEMENTAR\n",
        "    return l.count(v)\n",
        "    \n",
        "input('Qué número desea buscar?\\n')    \n",
        "print(ocurrencias(l,v))"
      ],
      "id": "d033f898",
      "execution_count": null,
      "outputs": [
        {
          "output_type": "stream",
          "name": "stdout",
          "text": [
            "Qué número desea buscar?\n",
            "1\n",
            "4\n"
          ]
        }
      ]
    },
    {
      "cell_type": "markdown",
      "metadata": {
        "id": "257f0f61"
      },
      "source": [
        "### Realizar una función que reciba una lista y un valor. Debe devolver la cantidad de veces que aparece ese valor en la lista\n"
      ],
      "id": "257f0f61"
    },
    {
      "cell_type": "markdown",
      "metadata": {
        "id": "16072ce3"
      },
      "source": [
        "### Crear el siguiente arreglo con forma (3,4)\n",
        "    [[ 1  2  3  4]\n",
        "    [ 5  6  7  8]\n",
        "    [ 9 10 11 12]]"
      ],
      "id": "16072ce3"
    },
    {
      "cell_type": "code",
      "metadata": {
        "colab": {
          "base_uri": "https://localhost:8080/"
        },
        "id": "b2f205be",
        "outputId": "2ce8fe52-0d0b-436b-f44f-04f66a5324f4"
      },
      "source": [
        "import numpy as np\n",
        "a=np.array([[ 1 , 2 , 3,  4],[ 5 , 6 , 7 , 8],[ 9 ,10, 11, 12]])\n",
        "print(a.shape)\n",
        "print(a.dtype)"
      ],
      "id": "b2f205be",
      "execution_count": null,
      "outputs": [
        {
          "output_type": "stream",
          "name": "stdout",
          "text": [
            "(3, 4)\n",
            "int64\n"
          ]
        }
      ]
    },
    {
      "cell_type": "markdown",
      "metadata": {
        "id": "3a6085dd"
      },
      "source": [
        "### Para M a) Indicar de que tipo es, b) ¿Qué forma tiene? c) ¿Cuantos elementos tiene? d) Qué tipo de dato tiene?"
      ],
      "id": "3a6085dd"
    },
    {
      "cell_type": "code",
      "metadata": {
        "id": "c53463ff"
      },
      "source": [
        "import numpy as np\n",
        "M = np.array([[1.0, 4.5], [3.4, 4.6], [5.5, 6.2]])\n",
        "#m = np.array([[1.0, 4.5], [3.4, 4.6], [5.5, 6.2]])"
      ],
      "id": "c53463ff",
      "execution_count": null,
      "outputs": []
    },
    {
      "cell_type": "code",
      "metadata": {
        "id": "080565c8",
        "colab": {
          "base_uri": "https://localhost:8080/"
        },
        "outputId": "93e83e3d-7927-45ea-8831-d6e09fa4fc82"
      },
      "source": [
        "print(M.shape)\n",
        "print(M.size)\n",
        "print(M.dtype)"
      ],
      "id": "080565c8",
      "execution_count": null,
      "outputs": [
        {
          "output_type": "stream",
          "name": "stdout",
          "text": [
            "(3, 2)\n",
            "6\n",
            "float64\n"
          ]
        }
      ]
    },
    {
      "cell_type": "code",
      "metadata": {
        "id": "814e17ec"
      },
      "source": [
        ""
      ],
      "id": "814e17ec",
      "execution_count": null,
      "outputs": []
    },
    {
      "cell_type": "markdown",
      "metadata": {
        "id": "9cb14eec"
      },
      "source": [
        "### Para B a) Indicar de que tipo es, b) ¿Qué forma tiene? c) ¿Cuantos elementos tiene? d) Qué tipo de dato tiene?"
      ],
      "id": "9cb14eec"
    },
    {
      "cell_type": "code",
      "metadata": {
        "id": "a580d57f",
        "colab": {
          "base_uri": "https://localhost:8080/"
        },
        "outputId": "5ab46b22-01f6-4256-9164-22e165bbdcd5"
      },
      "source": [
        "B = np.array([[1, 2], [3, 4]], dtype=complex)\n",
        "print(B.shape)\n",
        "print(B.size)\n",
        "print(B.dtype)"
      ],
      "id": "a580d57f",
      "execution_count": null,
      "outputs": [
        {
          "output_type": "stream",
          "name": "stdout",
          "text": [
            "(2, 2)\n",
            "4\n",
            "complex128\n"
          ]
        }
      ]
    },
    {
      "cell_type": "markdown",
      "metadata": {
        "id": "380f9e96"
      },
      "source": [
        "### Crear una matriz de 5x8, que esté inicializada con el valor 0.5\n"
      ],
      "id": "380f9e96"
    },
    {
      "cell_type": "code",
      "metadata": {
        "id": "365db8e1",
        "colab": {
          "base_uri": "https://localhost:8080/"
        },
        "outputId": "c2a53116-fb98-41b4-b780-b9c011ec43a4"
      },
      "source": [
        "import numpy as np\n",
        "a=np.array([[ 0.5 , 2 , 3,  4, 4, 3, 2, 1],[ 5 , 6 , 7 , 8, 8, 7, 6, 5],[ 9 ,10, 11, 12, 12, 11, 10, 9],[ 9 ,10, 11, 12, 12, 11, 10, 9], [ 9 ,10, 11, 12, 12, 11, 10, 9]])\n",
        "print(a)\n",
        "print(a.shape)\n",
        "print(a.dtype)\n",
        "print(a.size)\n",
        "\n"
      ],
      "id": "365db8e1",
      "execution_count": null,
      "outputs": [
        {
          "output_type": "stream",
          "name": "stdout",
          "text": [
            "[[ 0.5  2.   3.   4.   4.   3.   2.   1. ]\n",
            " [ 5.   6.   7.   8.   8.   7.   6.   5. ]\n",
            " [ 9.  10.  11.  12.  12.  11.  10.   9. ]\n",
            " [ 9.  10.  11.  12.  12.  11.  10.   9. ]\n",
            " [ 9.  10.  11.  12.  12.  11.  10.   9. ]]\n",
            "(5, 8)\n",
            "float64\n",
            "40\n"
          ]
        }
      ]
    },
    {
      "cell_type": "markdown",
      "metadata": {
        "id": "4d621bb0"
      },
      "source": [
        "### a) Sumarle 5 a la fila 2 de la matriz"
      ],
      "id": "4d621bb0"
    },
    {
      "cell_type": "code",
      "metadata": {
        "id": "66162aad",
        "colab": {
          "base_uri": "https://localhost:8080/"
        },
        "outputId": "ec82e012-f5f8-4af2-feb8-06b7b2e083fe"
      },
      "source": [
        "print(\"- Sumamos 5 la fila 2:\")\n",
        "a[1,:]=a[1,:]+5.0\n",
        "print(\"- Matriz original A:\")\n",
        "print(a)\n",
        "b=a\n",
        "print(\"- Matriz copia B:\")\n",
        "print(b)"
      ],
      "id": "66162aad",
      "execution_count": null,
      "outputs": [
        {
          "output_type": "stream",
          "name": "stdout",
          "text": [
            "- Sumamos 5 la fila 2:\n",
            "- Matriz original A:\n",
            "[[ 0.5  2.   3.   4.   4.   3.   2.   1. ]\n",
            " [10.  11.  12.  13.  13.  12.  11.  10. ]\n",
            " [ 9.  10.  11.  12.  12.  11.  10.   9. ]\n",
            " [ 9.  10.  11.  12.  12.  11.  10.   9. ]\n",
            " [ 9.  10.  11.  12.  12.  11.  10.   9. ]]\n",
            "- Matriz copia B:\n",
            "[[ 0.5  2.   3.   4.   4.   3.   2.   1. ]\n",
            " [10.  11.  12.  13.  13.  12.  11.  10. ]\n",
            " [ 9.  10.  11.  12.  12.  11.  10.   9. ]\n",
            " [ 9.  10.  11.  12.  12.  11.  10.   9. ]\n",
            " [ 9.  10.  11.  12.  12.  11.  10.   9. ]]\n"
          ]
        }
      ]
    },
    {
      "cell_type": "markdown",
      "metadata": {
        "id": "hh7NeWwPfza0"
      },
      "source": [
        ""
      ],
      "id": "hh7NeWwPfza0"
    },
    {
      "cell_type": "markdown",
      "metadata": {
        "id": "44ba16eb"
      },
      "source": [
        "### a) Multiplicar por 66 la fila 4 de la matriz a)"
      ],
      "id": "44ba16eb"
    },
    {
      "cell_type": "code",
      "metadata": {
        "id": "d42d696d",
        "colab": {
          "base_uri": "https://localhost:8080/"
        },
        "outputId": "df9c05e0-bff7-420a-952a-0f96c36672aa"
      },
      "source": [
        "print(\"- Multiplicamos por 66 la fila 4, de la matriz a:\")\n",
        "print(\"- matriz original a:\")\n",
        "print(a)\n",
        "a[3,:]=a[3,:]*66.0\n",
        "print(\" \")\n",
        "print(\"- nueva matriz * 66\")\n",
        "print(\" \")\n",
        "print (\" El nuevo valor de fila 4  {}\".format(a))"
      ],
      "id": "d42d696d",
      "execution_count": null,
      "outputs": [
        {
          "output_type": "stream",
          "name": "stdout",
          "text": [
            "- Multiplicamos por 66 la fila 4, de la matriz a:\n",
            "- matriz original a:\n",
            "[[ 0.5  2.   3.   4.   4.   3.   2.   1. ]\n",
            " [10.  11.  12.  13.  13.  12.  11.  10. ]\n",
            " [ 9.  10.  11.  12.  12.  11.  10.   9. ]\n",
            " [ 9.  10.  11.  12.  12.  11.  10.   9. ]\n",
            " [ 9.  10.  11.  12.  12.  11.  10.   9. ]]\n",
            " \n",
            "- nueva matriz * 66\n",
            " \n",
            " El nuevo valor de fila 4  [[5.00e-01 2.00e+00 3.00e+00 4.00e+00 4.00e+00 3.00e+00 2.00e+00 1.00e+00]\n",
            " [1.00e+01 1.10e+01 1.20e+01 1.30e+01 1.30e+01 1.20e+01 1.10e+01 1.00e+01]\n",
            " [9.00e+00 1.00e+01 1.10e+01 1.20e+01 1.20e+01 1.10e+01 1.00e+01 9.00e+00]\n",
            " [5.94e+02 6.60e+02 7.26e+02 7.92e+02 7.92e+02 7.26e+02 6.60e+02 5.94e+02]\n",
            " [9.00e+00 1.00e+01 1.10e+01 1.20e+01 1.20e+01 1.10e+01 1.00e+01 9.00e+00]]\n"
          ]
        }
      ]
    },
    {
      "cell_type": "markdown",
      "metadata": {
        "id": "3f2f5fca"
      },
      "source": [
        "### b) Dividir  por 2 la fila 4 de la matriz b)"
      ],
      "id": "3f2f5fca"
    },
    {
      "cell_type": "code",
      "metadata": {
        "id": "98b177e9",
        "colab": {
          "base_uri": "https://localhost:8080/"
        },
        "outputId": "e1ffdf14-5258-410c-889b-8c82abb1ae5a"
      },
      "source": [
        "print(\"- Dividir por 2 la fila 4\")\n",
        "print(\"-************************\")\n",
        "print(\"Matriz copia B\")\n",
        "print(b)\n",
        "print(\" \")\n",
        "print(\"- Fila 4 dividida por 2\")\n",
        "print(\"-************************\")\n",
        "b[1,:]=(a[1,:]/2.0)\n",
        "print(b)\n"
      ],
      "id": "98b177e9",
      "execution_count": null,
      "outputs": [
        {
          "output_type": "stream",
          "name": "stdout",
          "text": [
            "- Dividir por 2 la fila 4\n",
            "-************************\n",
            "Matriz copia B\n",
            "[[5.00e-01 2.00e+00 3.00e+00 4.00e+00 4.00e+00 3.00e+00 2.00e+00 1.00e+00]\n",
            " [5.00e+00 5.50e+00 6.00e+00 6.50e+00 6.50e+00 6.00e+00 5.50e+00 5.00e+00]\n",
            " [9.00e+00 1.00e+01 1.10e+01 1.20e+01 1.20e+01 1.10e+01 1.00e+01 9.00e+00]\n",
            " [5.94e+02 6.60e+02 7.26e+02 7.92e+02 7.92e+02 7.26e+02 6.60e+02 5.94e+02]\n",
            " [9.00e+00 1.00e+01 1.10e+01 1.20e+01 1.20e+01 1.10e+01 1.00e+01 9.00e+00]]\n",
            " \n",
            "- Fila 4 dividida por 2\n",
            "-************************\n",
            "[[5.00e-01 2.00e+00 3.00e+00 4.00e+00 4.00e+00 3.00e+00 2.00e+00 1.00e+00]\n",
            " [2.50e+00 2.75e+00 3.00e+00 3.25e+00 3.25e+00 3.00e+00 2.75e+00 2.50e+00]\n",
            " [9.00e+00 1.00e+01 1.10e+01 1.20e+01 1.20e+01 1.10e+01 1.00e+01 9.00e+00]\n",
            " [5.94e+02 6.60e+02 7.26e+02 7.92e+02 7.92e+02 7.26e+02 6.60e+02 5.94e+02]\n",
            " [9.00e+00 1.00e+01 1.10e+01 1.20e+01 1.20e+01 1.10e+01 1.00e+01 9.00e+00]]\n"
          ]
        }
      ]
    },
    {
      "cell_type": "markdown",
      "metadata": {
        "id": "3131170b"
      },
      "source": [
        "\n",
        "### Crea una matriz aleatoria de 5x5 con valores entre mayores a 1\n",
        "\n"
      ],
      "id": "3131170b"
    },
    {
      "cell_type": "code",
      "metadata": {
        "id": "8e4ca5ee",
        "colab": {
          "base_uri": "https://localhost:8080/"
        },
        "outputId": "aecbb4b1-8b0a-4b50-c157-849e8895743a"
      },
      "source": [
        "import numpy as np\n",
        "a = np.random.randint(30, size=(5,5))\n",
        "a=a+2\n",
        "print(a)\n",
        "print(\"\")\n",
        "print(\"largo matriz\",len(a))"
      ],
      "id": "8e4ca5ee",
      "execution_count": null,
      "outputs": [
        {
          "output_type": "stream",
          "name": "stdout",
          "text": [
            "[[ 3 30  6  5  3]\n",
            " [10 11 25  4 12]\n",
            " [28  7 11 24 19]\n",
            " [24 20 31 24 12]\n",
            " [22 31 25  6 20]]\n",
            "\n",
            "largo matriz 5\n"
          ]
        }
      ]
    },
    {
      "cell_type": "markdown",
      "metadata": {
        "id": "8650fb17"
      },
      "source": [
        "\n",
        "### c) Calcular el promedio de los elementos de las primeras dos filas de la matriz b) utilizando dos for anidados"
      ],
      "id": "8650fb17"
    },
    {
      "cell_type": "code",
      "metadata": {
        "id": "4a5ec351",
        "colab": {
          "base_uri": "https://localhost:8080/"
        },
        "outputId": "6f077f90-e2d0-463c-eb97-c006ca90d11b"
      },
      "source": [
        "\n",
        "for i in range(0,5):\n",
        "    acumulafila=0;    \n",
        "    for j in range(0,5):\n",
        "      acumulafila=acumulafila+a[i][j];              \n",
        "      if (i >= 0) and (j==4):\n",
        "         print(\"Promedio Fila\",i)\n",
        "         print(acumulafila/5.0)\n",
        "         acumulafila=0\n",
        " "
      ],
      "id": "4a5ec351",
      "execution_count": null,
      "outputs": [
        {
          "output_type": "stream",
          "name": "stdout",
          "text": [
            "Promedio Fila 0\n",
            "9.4\n",
            "Promedio Fila 1\n",
            "12.4\n",
            "Promedio Fila 2\n",
            "17.8\n",
            "Promedio Fila 3\n",
            "22.2\n",
            "Promedio Fila 4\n",
            "20.8\n"
          ]
        }
      ]
    },
    {
      "cell_type": "markdown",
      "metadata": {
        "id": "912bcdc3"
      },
      "source": [
        "### Hacer de manera libre un gráfico usando ```linspace``` para definir los datos"
      ],
      "id": "912bcdc3"
    },
    {
      "cell_type": "code",
      "metadata": {
        "id": "01a1242d"
      },
      "source": [
        ""
      ],
      "id": "01a1242d",
      "execution_count": null,
      "outputs": []
    }
  ]
}